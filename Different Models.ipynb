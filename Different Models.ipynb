{
 "cells": [
  {
   "cell_type": "code",
   "execution_count": 1,
   "id": "c89f1e84",
   "metadata": {},
   "outputs": [
    {
     "name": "stdout",
     "output_type": "stream",
     "text": [
      "Defaulting to user installation because normal site-packages is not writeable\n",
      "Requirement already satisfied: mlxtend in c:\\users\\harsh\\appdata\\roaming\\python\\python310\\site-packages (0.22.0)\n",
      "Requirement already satisfied: numpy>=1.16.2 in c:\\programdata\\anaconda3\\lib\\site-packages (from mlxtend) (1.23.5)\n",
      "Requirement already satisfied: scikit-learn>=1.0.2 in c:\\users\\harsh\\appdata\\roaming\\python\\python310\\site-packages (from mlxtend) (1.2.2)\n",
      "Requirement already satisfied: scipy>=1.2.1 in c:\\programdata\\anaconda3\\lib\\site-packages (from mlxtend) (1.10.0)\n",
      "Requirement already satisfied: pandas>=0.24.2 in c:\\programdata\\anaconda3\\lib\\site-packages (from mlxtend) (1.5.3)\n",
      "Requirement already satisfied: joblib>=0.13.2 in c:\\programdata\\anaconda3\\lib\\site-packages (from mlxtend) (1.1.1)\n",
      "Requirement already satisfied: setuptools in c:\\programdata\\anaconda3\\lib\\site-packages (from mlxtend) (65.6.3)\n",
      "Requirement already satisfied: matplotlib>=3.0.0 in c:\\programdata\\anaconda3\\lib\\site-packages (from mlxtend) (3.7.0)\n",
      "Requirement already satisfied: contourpy>=1.0.1 in c:\\programdata\\anaconda3\\lib\\site-packages (from matplotlib>=3.0.0->mlxtend) (1.0.5)\n",
      "Requirement already satisfied: pyparsing>=2.3.1 in c:\\programdata\\anaconda3\\lib\\site-packages (from matplotlib>=3.0.0->mlxtend) (3.0.9)\n",
      "Requirement already satisfied: cycler>=0.10 in c:\\programdata\\anaconda3\\lib\\site-packages (from matplotlib>=3.0.0->mlxtend) (0.11.0)\n",
      "Requirement already satisfied: kiwisolver>=1.0.1 in c:\\programdata\\anaconda3\\lib\\site-packages (from matplotlib>=3.0.0->mlxtend) (1.4.4)\n",
      "Requirement already satisfied: fonttools>=4.22.0 in c:\\programdata\\anaconda3\\lib\\site-packages (from matplotlib>=3.0.0->mlxtend) (4.25.0)\n",
      "Requirement already satisfied: pillow>=6.2.0 in c:\\programdata\\anaconda3\\lib\\site-packages (from matplotlib>=3.0.0->mlxtend) (9.4.0)\n",
      "Requirement already satisfied: python-dateutil>=2.7 in c:\\programdata\\anaconda3\\lib\\site-packages (from matplotlib>=3.0.0->mlxtend) (2.8.2)\n",
      "Requirement already satisfied: packaging>=20.0 in c:\\programdata\\anaconda3\\lib\\site-packages (from matplotlib>=3.0.0->mlxtend) (22.0)\n",
      "Requirement already satisfied: pytz>=2020.1 in c:\\programdata\\anaconda3\\lib\\site-packages (from pandas>=0.24.2->mlxtend) (2022.7)\n",
      "Requirement already satisfied: threadpoolctl>=2.0.0 in c:\\programdata\\anaconda3\\lib\\site-packages (from scikit-learn>=1.0.2->mlxtend) (2.2.0)\n",
      "Requirement already satisfied: six>=1.5 in c:\\programdata\\anaconda3\\lib\\site-packages (from python-dateutil>=2.7->matplotlib>=3.0.0->mlxtend) (1.16.0)\n"
     ]
    }
   ],
   "source": [
    "#Importing the dataset\n",
    "# Basic set-up\n",
    "import os\n",
    "import numpy as np\n",
    "import pandas as pd\n",
    "# ML toolkits\n",
    "from sklearn.model_selection import train_test_split\n",
    "from sklearn.feature_extraction.text import TfidfVectorizer\n",
    "from sklearn.metrics import accuracy_score, confusion_matrix, f1_score\n",
    "from sklearn.utils.extmath import density\n",
    "from sklearn.pipeline import make_pipeline\n",
    "# Data visualization\n",
    "import matplotlib.pyplot as plt\n",
    "import seaborn as sns\n",
    "!pip install mlxtend\n",
    "from mlxtend.plotting import plot_confusion_matrix"
   ]
  },
  {
   "cell_type": "code",
   "execution_count": 2,
   "id": "fb617aa9",
   "metadata": {},
   "outputs": [
    {
     "name": "stdout",
     "output_type": "stream",
     "text": [
      "The shape of the  data is (row, column):(23481, 4)\n",
      "<class 'pandas.core.frame.DataFrame'>\n",
      "RangeIndex: 23481 entries, 0 to 23480\n",
      "Data columns (total 4 columns):\n",
      " #   Column   Non-Null Count  Dtype \n",
      "---  ------   --------------  ----- \n",
      " 0   title    23481 non-null  object\n",
      " 1   text     23481 non-null  object\n",
      " 2   subject  23481 non-null  object\n",
      " 3   date     23481 non-null  object\n",
      "dtypes: object(4)\n",
      "memory usage: 733.9+ KB\n",
      "None\n",
      "\n",
      " --------------------------------------- \n",
      "\n",
      "The shape of the  data is (row, column):(21417, 4)\n",
      "<class 'pandas.core.frame.DataFrame'>\n",
      "RangeIndex: 21417 entries, 0 to 21416\n",
      "Data columns (total 4 columns):\n",
      " #   Column   Non-Null Count  Dtype \n",
      "---  ------   --------------  ----- \n",
      " 0   title    21417 non-null  object\n",
      " 1   text     21417 non-null  object\n",
      " 2   subject  21417 non-null  object\n",
      " 3   date     21417 non-null  object\n",
      "dtypes: object(4)\n",
      "memory usage: 669.4+ KB\n",
      "None\n"
     ]
    }
   ],
   "source": [
    "#reading the fake and true datasets\n",
    "fake_news = pd.read_csv('Fake.csv')\n",
    "true_news = pd.read_csv('True.csv')\n",
    "\n",
    "# print shape of fake dataset with rows and columns and information \n",
    "print (\"The shape of the  data is (row, column):\"+ str(fake_news.shape))\n",
    "print (fake_news.info())\n",
    "print(\"\\n --------------------------------------- \\n\")\n",
    "\n",
    "# print shape of true dataset with rows and columns and information\n",
    "print (\"The shape of the  data is (row, column):\"+ str(true_news.shape))\n",
    "print (true_news.info())"
   ]
  },
  {
   "cell_type": "code",
   "execution_count": 3,
   "id": "626c7104",
   "metadata": {},
   "outputs": [],
   "source": [
    "#Target variable for fake news\n",
    "fake_news['output']=0\n",
    "\n",
    "#Target variable for true news\n",
    "true_news['output']=1"
   ]
  },
  {
   "cell_type": "code",
   "execution_count": 4,
   "id": "dbe25015",
   "metadata": {},
   "outputs": [],
   "source": [
    "#Concatenating and dropping for fake news\n",
    "fake_news['news']=fake_news['title']+fake_news['text']\n",
    "fake_news=fake_news.drop(['title', 'text'], axis=1)\n",
    "\n",
    "#Concatenating and dropping for true news\n",
    "true_news['news']=true_news['title']+true_news['text']\n",
    "true_news=true_news.drop(['title', 'text'], axis=1)\n",
    "\n",
    "#Rearranging the columns\n",
    "fake_news = fake_news[['subject', 'date', 'news','output']]\n",
    "true_news = true_news[['subject', 'date', 'news','output']]"
   ]
  },
  {
   "cell_type": "code",
   "execution_count": 5,
   "id": "c44ec0cf",
   "metadata": {},
   "outputs": [
    {
     "data": {
      "text/plain": [
       "'You can also execute the below code to get the result \\nwhich allows only string which has the months and rest are filtered'"
      ]
     },
     "execution_count": 5,
     "metadata": {},
     "output_type": "execute_result"
    }
   ],
   "source": [
    "#Removing links and the headline from the date column\n",
    "fake_news=fake_news[~fake_news.date.str.contains(\"http\")]\n",
    "fake_news=fake_news[~fake_news.date.str.contains(\"HOST\")]\n",
    "\n",
    "'''You can also execute the below code to get the result \n",
    "which allows only string which has the months and rest are filtered'''\n",
    "#fake_news=fake_news[fake_news.date.str.contains(\"Jan|Feb|Mar|Apr|May|Jun|Jul|Aug|Sep|Oct|Nov|Dec\")]"
   ]
  },
  {
   "cell_type": "code",
   "execution_count": 6,
   "id": "e7ebbe63",
   "metadata": {},
   "outputs": [],
   "source": [
    "#Appending two datasets"
   ]
  },
  {
   "cell_type": "code",
   "execution_count": 7,
   "id": "f34e2f20",
   "metadata": {},
   "outputs": [
    {
     "data": {
      "text/html": [
       "<div>\n",
       "<style scoped>\n",
       "    .dataframe tbody tr th:only-of-type {\n",
       "        vertical-align: middle;\n",
       "    }\n",
       "\n",
       "    .dataframe tbody tr th {\n",
       "        vertical-align: top;\n",
       "    }\n",
       "\n",
       "    .dataframe thead th {\n",
       "        text-align: right;\n",
       "    }\n",
       "</style>\n",
       "<table border=\"1\" class=\"dataframe\">\n",
       "  <thead>\n",
       "    <tr style=\"text-align: right;\">\n",
       "      <th></th>\n",
       "      <th>subject</th>\n",
       "      <th>date</th>\n",
       "      <th>news</th>\n",
       "      <th>output</th>\n",
       "    </tr>\n",
       "  </thead>\n",
       "  <tbody>\n",
       "    <tr>\n",
       "      <th>0</th>\n",
       "      <td>News</td>\n",
       "      <td>December 31, 2017</td>\n",
       "      <td>Donald Trump Sends Out Embarrassing New Year’...</td>\n",
       "      <td>0</td>\n",
       "    </tr>\n",
       "    <tr>\n",
       "      <th>1</th>\n",
       "      <td>News</td>\n",
       "      <td>December 31, 2017</td>\n",
       "      <td>Drunk Bragging Trump Staffer Started Russian ...</td>\n",
       "      <td>0</td>\n",
       "    </tr>\n",
       "    <tr>\n",
       "      <th>2</th>\n",
       "      <td>News</td>\n",
       "      <td>December 30, 2017</td>\n",
       "      <td>Sheriff David Clarke Becomes An Internet Joke...</td>\n",
       "      <td>0</td>\n",
       "    </tr>\n",
       "    <tr>\n",
       "      <th>3</th>\n",
       "      <td>News</td>\n",
       "      <td>December 29, 2017</td>\n",
       "      <td>Trump Is So Obsessed He Even Has Obama’s Name...</td>\n",
       "      <td>0</td>\n",
       "    </tr>\n",
       "    <tr>\n",
       "      <th>4</th>\n",
       "      <td>News</td>\n",
       "      <td>December 25, 2017</td>\n",
       "      <td>Pope Francis Just Called Out Donald Trump Dur...</td>\n",
       "      <td>0</td>\n",
       "    </tr>\n",
       "    <tr>\n",
       "      <th>...</th>\n",
       "      <td>...</td>\n",
       "      <td>...</td>\n",
       "      <td>...</td>\n",
       "      <td>...</td>\n",
       "    </tr>\n",
       "    <tr>\n",
       "      <th>21412</th>\n",
       "      <td>worldnews</td>\n",
       "      <td>August 22, 2017</td>\n",
       "      <td>'Fully committed' NATO backs new U.S. approach...</td>\n",
       "      <td>1</td>\n",
       "    </tr>\n",
       "    <tr>\n",
       "      <th>21413</th>\n",
       "      <td>worldnews</td>\n",
       "      <td>August 22, 2017</td>\n",
       "      <td>LexisNexis withdrew two products from Chinese ...</td>\n",
       "      <td>1</td>\n",
       "    </tr>\n",
       "    <tr>\n",
       "      <th>21414</th>\n",
       "      <td>worldnews</td>\n",
       "      <td>August 22, 2017</td>\n",
       "      <td>Minsk cultural hub becomes haven from authorit...</td>\n",
       "      <td>1</td>\n",
       "    </tr>\n",
       "    <tr>\n",
       "      <th>21415</th>\n",
       "      <td>worldnews</td>\n",
       "      <td>August 22, 2017</td>\n",
       "      <td>Vatican upbeat on possibility of Pope Francis ...</td>\n",
       "      <td>1</td>\n",
       "    </tr>\n",
       "    <tr>\n",
       "      <th>21416</th>\n",
       "      <td>worldnews</td>\n",
       "      <td>August 22, 2017</td>\n",
       "      <td>Indonesia to buy $1.14 billion worth of Russia...</td>\n",
       "      <td>1</td>\n",
       "    </tr>\n",
       "  </tbody>\n",
       "</table>\n",
       "<p>44888 rows × 4 columns</p>\n",
       "</div>"
      ],
      "text/plain": [
       "         subject               date  \\\n",
       "0           News  December 31, 2017   \n",
       "1           News  December 31, 2017   \n",
       "2           News  December 30, 2017   \n",
       "3           News  December 29, 2017   \n",
       "4           News  December 25, 2017   \n",
       "...          ...                ...   \n",
       "21412  worldnews   August 22, 2017    \n",
       "21413  worldnews   August 22, 2017    \n",
       "21414  worldnews   August 22, 2017    \n",
       "21415  worldnews   August 22, 2017    \n",
       "21416  worldnews   August 22, 2017    \n",
       "\n",
       "                                                    news  output  \n",
       "0       Donald Trump Sends Out Embarrassing New Year’...       0  \n",
       "1       Drunk Bragging Trump Staffer Started Russian ...       0  \n",
       "2       Sheriff David Clarke Becomes An Internet Joke...       0  \n",
       "3       Trump Is So Obsessed He Even Has Obama’s Name...       0  \n",
       "4       Pope Francis Just Called Out Donald Trump Dur...       0  \n",
       "...                                                  ...     ...  \n",
       "21412  'Fully committed' NATO backs new U.S. approach...       1  \n",
       "21413  LexisNexis withdrew two products from Chinese ...       1  \n",
       "21414  Minsk cultural hub becomes haven from authorit...       1  \n",
       "21415  Vatican upbeat on possibility of Pope Francis ...       1  \n",
       "21416  Indonesia to buy $1.14 billion worth of Russia...       1  \n",
       "\n",
       "[44888 rows x 4 columns]"
      ]
     },
     "execution_count": 7,
     "metadata": {},
     "output_type": "execute_result"
    }
   ],
   "source": [
    "frames = [fake_news, true_news]\n",
    "news_dataset = pd.concat(frames)\n",
    "news_dataset"
   ]
  },
  {
   "cell_type": "code",
   "execution_count": 8,
   "id": "c24adb8d",
   "metadata": {},
   "outputs": [],
   "source": [
    "#Text Processing"
   ]
  },
  {
   "cell_type": "code",
   "execution_count": 9,
   "id": "ed133feb",
   "metadata": {},
   "outputs": [],
   "source": [
    "#Creating a copy \n",
    "clean_news=news_dataset.copy()\n",
    "def review_cleaning(text):\n",
    "    '''Make text lowercase, remove text in square brackets,remove links,remove punctuation\n",
    "    and remove words containing numbers.'''\n",
    "    text = str(text).lower()\n",
    "    text = re.sub('\\[.*?\\]', '', text)\n",
    "    text = re.sub('https?://\\S+|www\\.\\S+', '', text)\n",
    "    text = re.sub('<.*?>+', '', text)\n",
    "    text = re.sub('[%s]' % re.escape(string.punctuation), '', text)\n",
    "    text = re.sub('\\n', '', text)\n",
    "    text = re.sub('\\w*\\d\\w*', '', text)\n",
    "    return text\n"
   ]
  },
  {
   "cell_type": "code",
   "execution_count": 10,
   "id": "79c22179",
   "metadata": {},
   "outputs": [
    {
     "data": {
      "text/html": [
       "<div>\n",
       "<style scoped>\n",
       "    .dataframe tbody tr th:only-of-type {\n",
       "        vertical-align: middle;\n",
       "    }\n",
       "\n",
       "    .dataframe tbody tr th {\n",
       "        vertical-align: top;\n",
       "    }\n",
       "\n",
       "    .dataframe thead th {\n",
       "        text-align: right;\n",
       "    }\n",
       "</style>\n",
       "<table border=\"1\" class=\"dataframe\">\n",
       "  <thead>\n",
       "    <tr style=\"text-align: right;\">\n",
       "      <th></th>\n",
       "      <th>subject</th>\n",
       "      <th>date</th>\n",
       "      <th>news</th>\n",
       "      <th>output</th>\n",
       "    </tr>\n",
       "  </thead>\n",
       "  <tbody>\n",
       "    <tr>\n",
       "      <th>0</th>\n",
       "      <td>News</td>\n",
       "      <td>December 31, 2017</td>\n",
       "      <td>donald trump sends out embarrassing new year’...</td>\n",
       "      <td>0</td>\n",
       "    </tr>\n",
       "    <tr>\n",
       "      <th>1</th>\n",
       "      <td>News</td>\n",
       "      <td>December 31, 2017</td>\n",
       "      <td>drunk bragging trump staffer started russian ...</td>\n",
       "      <td>0</td>\n",
       "    </tr>\n",
       "    <tr>\n",
       "      <th>2</th>\n",
       "      <td>News</td>\n",
       "      <td>December 30, 2017</td>\n",
       "      <td>sheriff david clarke becomes an internet joke...</td>\n",
       "      <td>0</td>\n",
       "    </tr>\n",
       "    <tr>\n",
       "      <th>3</th>\n",
       "      <td>News</td>\n",
       "      <td>December 29, 2017</td>\n",
       "      <td>trump is so obsessed he even has obama’s name...</td>\n",
       "      <td>0</td>\n",
       "    </tr>\n",
       "    <tr>\n",
       "      <th>4</th>\n",
       "      <td>News</td>\n",
       "      <td>December 25, 2017</td>\n",
       "      <td>pope francis just called out donald trump dur...</td>\n",
       "      <td>0</td>\n",
       "    </tr>\n",
       "  </tbody>\n",
       "</table>\n",
       "</div>"
      ],
      "text/plain": [
       "  subject               date  \\\n",
       "0    News  December 31, 2017   \n",
       "1    News  December 31, 2017   \n",
       "2    News  December 30, 2017   \n",
       "3    News  December 29, 2017   \n",
       "4    News  December 25, 2017   \n",
       "\n",
       "                                                news  output  \n",
       "0   donald trump sends out embarrassing new year’...       0  \n",
       "1   drunk bragging trump staffer started russian ...       0  \n",
       "2   sheriff david clarke becomes an internet joke...       0  \n",
       "3   trump is so obsessed he even has obama’s name...       0  \n",
       "4   pope francis just called out donald trump dur...       0  "
      ]
     },
     "execution_count": 10,
     "metadata": {},
     "output_type": "execute_result"
    }
   ],
   "source": [
    "import re\n",
    "import string\n",
    "clean_news['news']=clean_news['news'].apply(lambda x:review_cleaning(x))\n",
    "clean_news.head()"
   ]
  },
  {
   "cell_type": "code",
   "execution_count": 11,
   "id": "ae415f32",
   "metadata": {},
   "outputs": [],
   "source": [
    "#News-Stop words"
   ]
  },
  {
   "cell_type": "code",
   "execution_count": 12,
   "id": "d9e6e0d2",
   "metadata": {},
   "outputs": [
    {
     "name": "stdout",
     "output_type": "stream",
     "text": [
      "Defaulting to user installation because normal site-packages is not writeable\n",
      "Requirement already satisfied: stopwords in c:\\users\\harsh\\appdata\\roaming\\python\\python310\\site-packages (1.0.0)\n"
     ]
    },
    {
     "data": {
      "text/html": [
       "<div>\n",
       "<style scoped>\n",
       "    .dataframe tbody tr th:only-of-type {\n",
       "        vertical-align: middle;\n",
       "    }\n",
       "\n",
       "    .dataframe tbody tr th {\n",
       "        vertical-align: top;\n",
       "    }\n",
       "\n",
       "    .dataframe thead th {\n",
       "        text-align: right;\n",
       "    }\n",
       "</style>\n",
       "<table border=\"1\" class=\"dataframe\">\n",
       "  <thead>\n",
       "    <tr style=\"text-align: right;\">\n",
       "      <th></th>\n",
       "      <th>subject</th>\n",
       "      <th>date</th>\n",
       "      <th>news</th>\n",
       "      <th>output</th>\n",
       "    </tr>\n",
       "  </thead>\n",
       "  <tbody>\n",
       "    <tr>\n",
       "      <th>0</th>\n",
       "      <td>News</td>\n",
       "      <td>December 31, 2017</td>\n",
       "      <td>donald trump sends embarrassing new year’s eve...</td>\n",
       "      <td>0</td>\n",
       "    </tr>\n",
       "    <tr>\n",
       "      <th>1</th>\n",
       "      <td>News</td>\n",
       "      <td>December 31, 2017</td>\n",
       "      <td>drunk bragging trump staffer started russian c...</td>\n",
       "      <td>0</td>\n",
       "    </tr>\n",
       "    <tr>\n",
       "      <th>2</th>\n",
       "      <td>News</td>\n",
       "      <td>December 30, 2017</td>\n",
       "      <td>sheriff david clarke becomes internet joke thr...</td>\n",
       "      <td>0</td>\n",
       "    </tr>\n",
       "    <tr>\n",
       "      <th>3</th>\n",
       "      <td>News</td>\n",
       "      <td>December 29, 2017</td>\n",
       "      <td>trump obsessed even obama’s name coded website...</td>\n",
       "      <td>0</td>\n",
       "    </tr>\n",
       "    <tr>\n",
       "      <th>4</th>\n",
       "      <td>News</td>\n",
       "      <td>December 25, 2017</td>\n",
       "      <td>pope francis called donald trump christmas spe...</td>\n",
       "      <td>0</td>\n",
       "    </tr>\n",
       "  </tbody>\n",
       "</table>\n",
       "</div>"
      ],
      "text/plain": [
       "  subject               date  \\\n",
       "0    News  December 31, 2017   \n",
       "1    News  December 31, 2017   \n",
       "2    News  December 30, 2017   \n",
       "3    News  December 29, 2017   \n",
       "4    News  December 25, 2017   \n",
       "\n",
       "                                                news  output  \n",
       "0  donald trump sends embarrassing new year’s eve...       0  \n",
       "1  drunk bragging trump staffer started russian c...       0  \n",
       "2  sheriff david clarke becomes internet joke thr...       0  \n",
       "3  trump obsessed even obama’s name coded website...       0  \n",
       "4  pope francis called donald trump christmas spe...       0  "
      ]
     },
     "execution_count": 12,
     "metadata": {},
     "output_type": "execute_result"
    }
   ],
   "source": [
    "! pip install stopwords\n",
    "from nltk.corpus import stopwords\n",
    "stop = stopwords.words('english')\n",
    "clean_news['news'] = clean_news['news'].apply(lambda x: ' '.join([word for word in x.split() if word not in (stop)]))\n",
    "clean_news.head()"
   ]
  },
  {
   "cell_type": "code",
   "execution_count": 13,
   "id": "6ad1c037",
   "metadata": {},
   "outputs": [
    {
     "data": {
      "image/png": "[encoded data removed]",
      "text/plain": [
       "<Figure size 640x480 with 1 Axes>"
      ]
     },
     "metadata": {},
     "output_type": "display_data"
    }
   ],
   "source": [
    "#Plotting the frequency plot\n",
    "ax = sns.countplot(x=\"subject\", data=clean_news,\n",
    "                   facecolor=(0, 0, 0, 0),\n",
    "                   linewidth=5,\n",
    "                   edgecolor=sns.color_palette(\"dark\", 3))\n",
    "\n",
    "#Setting labels and font size\n",
    "ax.set(xlabel='Type of news', ylabel='Number of news',title='Count of news type')\n",
    "ax.xaxis.get_label().set_fontsize(15)\n",
    "ax.yaxis.get_label().set_fontsize(15)"
   ]
  },
  {
   "cell_type": "code",
   "execution_count": 14,
   "id": "b2c699b7",
   "metadata": {},
   "outputs": [
    {
     "data": {
      "text/plain": [
       "<seaborn.axisgrid.FacetGrid at 0x1fd23cf7490>"
      ]
     },
     "execution_count": 14,
     "metadata": {},
     "output_type": "execute_result"
    },
    {
     "data": {
      "image/png": "[encoded data removed]",
      "text/plain": [
       "<Figure size 1600x400 with 2 Axes>"
      ]
     },
     "metadata": {},
     "output_type": "display_data"
    }
   ],
   "source": [
    "g = sns.catplot(x=\"subject\", col=\"output\",\n",
    "                data=clean_news, kind=\"count\",\n",
    "                height=4, aspect=2)\n",
    "\n",
    "#Rotating the xlabels\n",
    "g.set_xticklabels(rotation=45)"
   ]
  },
  {
   "cell_type": "code",
   "execution_count": 15,
   "id": "8d2b351b",
   "metadata": {},
   "outputs": [
    {
     "data": {
      "image/png": "[encoded data removed]",
      "text/plain": [
       "<Figure size 640x480 with 1 Axes>"
      ]
     },
     "metadata": {},
     "output_type": "display_data"
    }
   ],
   "source": [
    "ax=sns.countplot(x=\"output\", data=clean_news)\n",
    "\n",
    "#Setting labels and font size\n",
    "ax.set(xlabel='Output', ylabel='Count of fake/true',title='Count of fake and true news')\n",
    "ax.xaxis.get_label().set_fontsize(15)\n",
    "ax.yaxis.get_label().set_fontsize(15)"
   ]
  },
  {
   "cell_type": "code",
   "execution_count": 16,
   "id": "07617a4c",
   "metadata": {},
   "outputs": [],
   "source": [
    "#Stemming & Vectorizing"
   ]
  },
  {
   "cell_type": "code",
   "execution_count": 17,
   "id": "140cb2df",
   "metadata": {},
   "outputs": [
    {
     "data": {
      "text/html": [
       "<div>\n",
       "<style scoped>\n",
       "    .dataframe tbody tr th:only-of-type {\n",
       "        vertical-align: middle;\n",
       "    }\n",
       "\n",
       "    .dataframe tbody tr th {\n",
       "        vertical-align: top;\n",
       "    }\n",
       "\n",
       "    .dataframe thead th {\n",
       "        text-align: right;\n",
       "    }\n",
       "</style>\n",
       "<table border=\"1\" class=\"dataframe\">\n",
       "  <thead>\n",
       "    <tr style=\"text-align: right;\">\n",
       "      <th></th>\n",
       "      <th>news</th>\n",
       "    </tr>\n",
       "  </thead>\n",
       "  <tbody>\n",
       "    <tr>\n",
       "      <th>0</th>\n",
       "      <td>donald trump sends embarrassing new year’s eve...</td>\n",
       "    </tr>\n",
       "    <tr>\n",
       "      <th>1</th>\n",
       "      <td>drunk bragging trump staffer started russian c...</td>\n",
       "    </tr>\n",
       "    <tr>\n",
       "      <th>2</th>\n",
       "      <td>sheriff david clarke becomes internet joke thr...</td>\n",
       "    </tr>\n",
       "    <tr>\n",
       "      <th>3</th>\n",
       "      <td>trump obsessed even obama’s name coded website...</td>\n",
       "    </tr>\n",
       "    <tr>\n",
       "      <th>4</th>\n",
       "      <td>pope francis called donald trump christmas spe...</td>\n",
       "    </tr>\n",
       "  </tbody>\n",
       "</table>\n",
       "</div>"
      ],
      "text/plain": [
       "                                                news\n",
       "0  donald trump sends embarrassing new year’s eve...\n",
       "1  drunk bragging trump staffer started russian c...\n",
       "2  sheriff david clarke becomes internet joke thr...\n",
       "3  trump obsessed even obama’s name coded website...\n",
       "4  pope francis called donald trump christmas spe..."
      ]
     },
     "execution_count": 17,
     "metadata": {},
     "output_type": "execute_result"
    }
   ],
   "source": [
    "#Extracting 'reviews' for processing\n",
    "news_features=clean_news.copy()\n",
    "news_features=news_features[['news']].reset_index(drop=True)\n",
    "news_features.head()"
   ]
  },
  {
   "cell_type": "code",
   "execution_count": 18,
   "id": "86f75e32",
   "metadata": {},
   "outputs": [],
   "source": [
    "stop_words = set(stopwords.words(\"english\"))\n",
    "#Performing stemming on the review dataframe\n",
    "from nltk.stem import PorterStemmer\n",
    "ps = PorterStemmer()\n",
    "\n",
    "#splitting and adding the stemmed words except stopwords\n",
    "corpus = []\n",
    "for i in range(0, len(news_features)):\n",
    "    news = re.sub('[^a-zA-Z]', ' ', news_features['news'][i])\n",
    "    news= news.lower()\n",
    "    news = news.split()\n",
    "    news = [ps.stem(word) for word in news if not word in stop_words]\n",
    "    news = ' '.join(news)\n",
    "    corpus.append(news) "
   ]
  },
  {
   "cell_type": "code",
   "execution_count": 19,
   "id": "37a4c84a",
   "metadata": {},
   "outputs": [
    {
     "data": {
      "text/plain": [
       "'drunk brag trump staffer start russian collus investigationhous intellig committe chairman devin nune go bad day assumpt like mani us christoph steeledossi prompt russia investig lash depart justic fbi order protect trump happen dossier start investig accord document obtain new york timesform trump campaign advis georg papadopoulo drunk wine bar reveal knowledg russian opposit research hillari clintonon top papadopoulo covfef boy trump administr alleg much larger role none damn drunken fool wine bar coffe boy help arrang new york meet trump presid abdel fattah elsisi egypt two month elect known former aid set meet world leader trump team trump ran mere coffe boyin may papadopoulo reveal australian diplomat alexand downer russian offici shop around possibl dirt thendemocrat presidenti nomine hillari clinton exactli much mr papadopoulo said night kensington wine room australian alexand downer unclear report state two month later leak democrat email began appear onlin australian offici pass inform mr papadopoulo american counterpart accord four current former american foreign offici direct knowledg australian role papadopoulo plead guilti lie fbi cooper wit special counsel robert mueller teamthi presid badli script realiti tv showphoto win mcnameegetti imag'"
      ]
     },
     "execution_count": 19,
     "metadata": {},
     "output_type": "execute_result"
    }
   ],
   "source": [
    "corpus[1]"
   ]
  },
  {
   "cell_type": "code",
   "execution_count": 20,
   "id": "b380c0bd",
   "metadata": {},
   "outputs": [
    {
     "data": {
      "text/plain": [
       "(44888, 5000)"
      ]
     },
     "execution_count": 20,
     "metadata": {},
     "output_type": "execute_result"
    }
   ],
   "source": [
    "#TFIDF(Term Frequency — Inverse Document Frequency)\n",
    "tfidf_vectorizer = TfidfVectorizer(max_features=5000,ngram_range=(2,2))\n",
    "# TF-IDF feature matrix\n",
    "X= tfidf_vectorizer.fit_transform(news_features['news'])\n",
    "X.shape"
   ]
  },
  {
   "cell_type": "code",
   "execution_count": 21,
   "id": "2308f838",
   "metadata": {},
   "outputs": [],
   "source": [
    "#Getting the target variable\n",
    "y=clean_news['output']"
   ]
  },
  {
   "cell_type": "code",
   "execution_count": 22,
   "id": "a12dd5f1",
   "metadata": {},
   "outputs": [
    {
     "name": "stdout",
     "output_type": "stream",
     "text": [
      "Original dataset shape : Counter({0: 23471, 1: 21417})\n"
     ]
    }
   ],
   "source": [
    "from collections import Counter\n",
    "print(f'Original dataset shape : {Counter(y)}')\n"
   ]
  },
  {
   "cell_type": "code",
   "execution_count": 23,
   "id": "bbf37f22",
   "metadata": {},
   "outputs": [],
   "source": [
    "#Train-test split"
   ]
  },
  {
   "cell_type": "code",
   "execution_count": 24,
   "id": "f4b18b15",
   "metadata": {},
   "outputs": [],
   "source": [
    "# Divide the dataset into Train and Test\n",
    "X_train, X_test, y_train, y_test = train_test_split(X, y, test_size=0.25, random_state=0)"
   ]
  },
  {
   "cell_type": "code",
   "execution_count": 25,
   "id": "51ada82a",
   "metadata": {},
   "outputs": [],
   "source": [
    "def plot_confusion_matrix(cm, classes,\n",
    "                          normalize=False,\n",
    "                          title='Confusion matrix',\n",
    "                          cmap=plt.cm.Blues):\n",
    "    \"\"\"\n",
    "    This function prints and plots the confusion matrix.\n",
    "    Normalization can be applied by setting `normalize=True`.\n",
    "    \"\"\"\n",
    "    \n",
    "    plt.imshow(cm, interpolation='nearest', cmap=cmap)\n",
    "    plt.title(title)\n",
    "    plt.colorbar()\n",
    "    tick_marks = np.arange(len(classes))\n",
    "    plt.xticks(tick_marks, classes, rotation=45)\n",
    "    plt.yticks(tick_marks, classes)\n",
    "\n",
    "    if normalize:\n",
    "        cm = cm.astype('float') / cm.sum(axis=1)[:, np.newaxis]\n",
    "        print(\"Normalized confusion matrix\")\n",
    "    else:\n",
    "        print('Confusion matrix, without normalization')\n",
    "        thresh = cm.max() / 2.\n",
    "    for i in range (cm.shape[0]):\n",
    "        for j in range (cm.shape[1]):\n",
    "            plt.text(j, i, cm[i, j],\n",
    "                 horizontalalignment=\"center\",\n",
    "                 color=\"white\" if cm[i, j] > thresh else \"black\")\n",
    "\n",
    "    plt.tight_layout()\n",
    "    plt.ylabel('True label')\n",
    "    plt.xlabel('Predicted label')"
   ]
  },
  {
   "cell_type": "code",
   "execution_count": 26,
   "id": "3e74f149",
   "metadata": {},
   "outputs": [],
   "source": [
    "# Machine Learning libraries\n",
    "import sklearn \n",
    "from sklearn.model_selection import GridSearchCV\n",
    "from sklearn.linear_model import LogisticRegression\n",
    "from sklearn.tree import DecisionTreeClassifier\n",
    "from sklearn.naive_bayes import MultinomialNB \n",
    "from sklearn.neighbors import KNeighborsClassifier\n",
    "from sklearn.model_selection import train_test_split\n",
    "#Metrics libraries\n",
    "from sklearn import metrics\n",
    "from sklearn.metrics import classification_report\n",
    "from sklearn.model_selection import cross_val_score\n",
    "from sklearn.metrics import roc_auc_score\n",
    "from sklearn.metrics import roc_curve\n",
    "from sklearn.metrics import confusion_matrix\n",
    "from sklearn.metrics import accuracy_score\n",
    "\n",
    "#Miscellanous libraries\n",
    "from collections import Counter"
   ]
  },
  {
   "cell_type": "code",
   "execution_count": 27,
   "id": "539f33e9",
   "metadata": {},
   "outputs": [
    {
     "name": "stdout",
     "output_type": "stream",
     "text": [
      "Logistic Regression Test Accuracy: 0.9660040199274997\n",
      "Decision Tree Test Accuracy: 0.9335896143831883\n",
      "KNN Test Accuracy: 0.6119475850851893\n",
      "Naive Bayes Test Accuracy: 0.9373328405462511\n"
     ]
    }
   ],
   "source": [
    "#creating the objects\n",
    "logreg_cv = LogisticRegression(random_state=0)\n",
    "dt_cv=DecisionTreeClassifier()\n",
    "knn_cv=KNeighborsClassifier()\n",
    "nb_cv=MultinomialNB(alpha=0.1) \n",
    "cv_dict = {0: 'Logistic Regression', 1: 'Decision Tree',2:'KNN',3:'Naive Bayes'}\n",
    "cv_models=[logreg_cv,dt_cv,knn_cv,nb_cv]\n",
    "\n",
    "#Printing the accuracy\n",
    "for i,model in enumerate(cv_models):\n",
    "    print(\"{} Test Accuracy: {}\".format(cv_dict[i],cross_val_score(model, X, y, cv=10, scoring ='accuracy').mean()))"
   ]
  },
  {
   "cell_type": "code",
   "execution_count": 29,
   "id": "d5ece3ce",
   "metadata": {},
   "outputs": [
    {
     "name": "stderr",
     "output_type": "stream",
     "text": [
      "C:\\Users\\harsh\\AppData\\Roaming\\Python\\Python310\\site-packages\\sklearn\\model_selection\\_validation.py:378: FitFailedWarning: \n",
      "250 fits failed out of a total of 500.\n",
      "The score on these train-test partitions for these parameters will be set to nan.\n",
      "If these failures are not expected, you can try to debug them by setting error_score='raise'.\n",
      "\n",
      "Below are more details about the failures:\n",
      "--------------------------------------------------------------------------------\n",
      "250 fits failed with the following error:\n",
      "Traceback (most recent call last):\n",
      "  File \"C:\\Users\\harsh\\AppData\\Roaming\\Python\\Python310\\site-packages\\sklearn\\model_selection\\_validation.py\", line 686, in _fit_and_score\n",
      "    estimator.fit(X_train, y_train, **fit_params)\n",
      "  File \"C:\\Users\\harsh\\AppData\\Roaming\\Python\\Python310\\site-packages\\sklearn\\linear_model\\_logistic.py\", line 1162, in fit\n",
      "    solver = _check_solver(self.solver, self.penalty, self.dual)\n",
      "  File \"C:\\Users\\harsh\\AppData\\Roaming\\Python\\Python310\\site-packages\\sklearn\\linear_model\\_logistic.py\", line 54, in _check_solver\n",
      "    raise ValueError(\n",
      "ValueError: Solver lbfgs supports only 'l2' or 'none' penalties, got l1 penalty.\n",
      "\n",
      "  warnings.warn(some_fits_failed_message, FitFailedWarning)\n",
      "C:\\Users\\harsh\\AppData\\Roaming\\Python\\Python310\\site-packages\\sklearn\\model_selection\\_search.py:952: UserWarning: One or more of the test scores are non-finite: [       nan 0.52215886        nan 0.52215886        nan 0.52215886\n",
      "        nan 0.52215886        nan 0.52218856        nan 0.52812927\n",
      "        nan 0.55759516        nan 0.62944812        nan 0.72571739\n",
      "        nan 0.80980816        nan 0.8645518         nan 0.89773073\n",
      "        nan 0.91837462        nan 0.93141452        nan 0.94094938\n",
      "        nan 0.94766238        nan 0.95274175        nan 0.95687059\n",
      "        nan 0.96031617        nan 0.96376176        nan 0.96682124\n",
      "        nan 0.96949458        nan 0.97175204        nan 0.9740392\n",
      "        nan 0.97558376        nan 0.97665308        nan 0.97790064\n",
      "        nan 0.97855412        nan 0.97867294        nan 0.97926704\n",
      "        nan 0.97923729        nan 0.97941551        nan 0.97968285\n",
      "        nan 0.97977198        nan 0.97971256        nan 0.97956405\n",
      "        nan 0.97944523        nan 0.97914818        nan 0.97858382\n",
      "        nan 0.97816796        nan 0.97757389        nan 0.97739566\n",
      "        nan 0.97697981        nan 0.97656394        nan 0.9762372\n",
      "        nan 0.97608867        nan 0.97582134        nan 0.97540551\n",
      "        nan 0.97561342        nan 0.97558371]\n",
      "  warnings.warn(\n"
     ]
    },
    {
     "name": "stdout",
     "output_type": "stream",
     "text": [
      "LogisticRegression(C=24.420530945486497, random_state=0)\n",
      "The mean accuracy of the model is: 0.9803065407235787\n"
     ]
    },
    {
     "name": "stderr",
     "output_type": "stream",
     "text": [
      "C:\\Users\\harsh\\AppData\\Roaming\\Python\\Python310\\site-packages\\sklearn\\linear_model\\_logistic.py:458: ConvergenceWarning: lbfgs failed to converge (status=1):\n",
      "STOP: TOTAL NO. of ITERATIONS REACHED LIMIT.\n",
      "\n",
      "Increase the number of iterations (max_iter) or scale the data as shown in:\n",
      "    https://scikit-learn.org/stable/modules/preprocessing.html\n",
      "Please also refer to the documentation for alternative solver options:\n",
      "    https://scikit-learn.org/stable/modules/linear_model.html#logistic-regression\n",
      "  n_iter_i = _check_optimize_result(\n"
     ]
    }
   ],
   "source": [
    "#Logistic Regression with Hyperparameter Tuning\n",
    "param_grid = {'C': np.logspace(-4, 4, 50),\n",
    "             'penalty':['l1', 'l2']}\n",
    "clf = GridSearchCV(LogisticRegression(random_state=0), param_grid,cv=5, verbose=0,n_jobs=-1)\n",
    "best_model = clf.fit(X_train,y_train)\n",
    "print(best_model.best_estimator_)\n",
    "print(\"The mean accuracy of the model is:\",best_model.score(X_test,y_test))"
   ]
  },
  {
   "cell_type": "code",
   "execution_count": 30,
   "id": "e2a3c27e",
   "metadata": {},
   "outputs": [
    {
     "name": "stdout",
     "output_type": "stream",
     "text": [
      "Accuracy of logistic regression classifier on test set: 0.98\n"
     ]
    },
    {
     "name": "stderr",
     "output_type": "stream",
     "text": [
      "C:\\Users\\harsh\\AppData\\Roaming\\Python\\Python310\\site-packages\\sklearn\\linear_model\\_logistic.py:458: ConvergenceWarning: lbfgs failed to converge (status=1):\n",
      "STOP: TOTAL NO. of ITERATIONS REACHED LIMIT.\n",
      "\n",
      "Increase the number of iterations (max_iter) or scale the data as shown in:\n",
      "    https://scikit-learn.org/stable/modules/preprocessing.html\n",
      "Please also refer to the documentation for alternative solver options:\n",
      "    https://scikit-learn.org/stable/modules/linear_model.html#logistic-regression\n",
      "  n_iter_i = _check_optimize_result(\n"
     ]
    }
   ],
   "source": [
    "logreg = LogisticRegression(C=24.420530945486497, random_state=0)\n",
    "logreg.fit(X_train, y_train)\n",
    "y_pred = logreg.predict(X_test)\n",
    "print('Accuracy of logistic regression classifier on test set: {:.2f}'.format(logreg.score(X_test, y_test)))"
   ]
  },
  {
   "cell_type": "code",
   "execution_count": 31,
   "id": "24fe7a7d",
   "metadata": {},
   "outputs": [
    {
     "name": "stdout",
     "output_type": "stream",
     "text": [
      "Confusion matrix, without normalization\n"
     ]
    },
    {
     "data": {
      "image/png": "[encoded data removed]",
      "text/plain": [
       "<Figure size 640x480 with 2 Axes>"
      ]
     },
     "metadata": {},
     "output_type": "display_data"
    }
   ],
   "source": [
    "cm = metrics.confusion_matrix(y_test, y_pred)\n",
    "plot_confusion_matrix(cm, classes=['Fake','True'])"
   ]
  },
  {
   "cell_type": "code",
   "execution_count": null,
   "id": "27312a8b",
   "metadata": {},
   "outputs": [],
   "source": []
  }
 ],
 "metadata": {
  "kernelspec": {
   "display_name": "Python 3 (ipykernel)",
   "language": "python",
   "name": "python3"
  },
  "language_info": {
   "codemirror_mode": {
    "name": "ipython",
    "version": 3
   },
   "file_extension": ".py",
   "mimetype": "text/x-python",
   "name": "python",
   "nbconvert_exporter": "python",
   "pygments_lexer": "ipython3",
   "version": "3.10.9"
  }
 },
 "nbformat": 4,
 "nbformat_minor": 5
}
