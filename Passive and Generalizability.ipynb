{
 "cells": [
  {
   "cell_type": "code",
   "execution_count": 25,
   "id": "747b5877",
   "metadata": {},
   "outputs": [],
   "source": [
    "#Importing data & exploration"
   ]
  },
  {
   "cell_type": "code",
   "execution_count": 26,
   "id": "d72280de",
   "metadata": {},
   "outputs": [],
   "source": [
    "# Basic set-up\n",
    "import os\n",
    "import numpy as np\n",
    "import pandas as pd\n",
    "# ML toolkits\n",
    "from sklearn.model_selection import train_test_split\n",
    "from sklearn.feature_extraction.text import TfidfVectorizer\n",
    "from sklearn.metrics import accuracy_score, confusion_matrix, f1_score\n",
    "from sklearn.utils.extmath import density\n",
    "from sklearn.pipeline import make_pipeline"
   ]
  },
  {
   "cell_type": "code",
   "execution_count": 27,
   "id": "58f82003",
   "metadata": {
    "scrolled": true
   },
   "outputs": [
    {
     "name": "stdout",
     "output_type": "stream",
     "text": [
      "Requirement already satisfied: mlxtend in c:\\users\\harsh\\anaconda3\\lib\\site-packages (0.22.0)\n",
      "Requirement already satisfied: matplotlib>=3.0.0 in c:\\users\\harsh\\anaconda3\\lib\\site-packages (from mlxtend) (3.5.2)\n",
      "Requirement already satisfied: joblib>=0.13.2 in c:\\users\\harsh\\anaconda3\\lib\\site-packages (from mlxtend) (1.1.0)\n",
      "Requirement already satisfied: setuptools in c:\\users\\harsh\\anaconda3\\lib\\site-packages (from mlxtend) (67.6.1)\n",
      "Requirement already satisfied: scipy>=1.2.1 in c:\\users\\harsh\\anaconda3\\lib\\site-packages (from mlxtend) (1.10.1)\n",
      "Requirement already satisfied: scikit-learn>=1.0.2 in c:\\users\\harsh\\anaconda3\\lib\\site-packages (from mlxtend) (1.0.2)\n",
      "Requirement already satisfied: pandas>=0.24.2 in c:\\users\\harsh\\anaconda3\\lib\\site-packages (from mlxtend) (1.4.4)\n",
      "Requirement already satisfied: numpy>=1.16.2 in c:\\users\\harsh\\anaconda3\\lib\\site-packages (from mlxtend) (1.23.5)\n",
      "Requirement already satisfied: pillow>=6.2.0 in c:\\users\\harsh\\anaconda3\\lib\\site-packages (from matplotlib>=3.0.0->mlxtend) (9.2.0)\n",
      "Requirement already satisfied: pyparsing>=2.2.1 in c:\\users\\harsh\\anaconda3\\lib\\site-packages (from matplotlib>=3.0.0->mlxtend) (3.0.9)\n",
      "Requirement already satisfied: python-dateutil>=2.7 in c:\\users\\harsh\\anaconda3\\lib\\site-packages (from matplotlib>=3.0.0->mlxtend) (2.8.2)\n",
      "Requirement already satisfied: kiwisolver>=1.0.1 in c:\\users\\harsh\\anaconda3\\lib\\site-packages (from matplotlib>=3.0.0->mlxtend) (1.4.2)\n",
      "Requirement already satisfied: packaging>=20.0 in c:\\users\\harsh\\anaconda3\\lib\\site-packages (from matplotlib>=3.0.0->mlxtend) (23.1)\n",
      "Requirement already satisfied: fonttools>=4.22.0 in c:\\users\\harsh\\anaconda3\\lib\\site-packages (from matplotlib>=3.0.0->mlxtend) (4.25.0)\n",
      "Requirement already satisfied: cycler>=0.10 in c:\\users\\harsh\\anaconda3\\lib\\site-packages (from matplotlib>=3.0.0->mlxtend) (0.11.0)\n",
      "Requirement already satisfied: pytz>=2020.1 in c:\\users\\harsh\\anaconda3\\lib\\site-packages (from pandas>=0.24.2->mlxtend) (2022.1)\n",
      "Requirement already satisfied: threadpoolctl>=2.0.0 in c:\\users\\harsh\\anaconda3\\lib\\site-packages (from scikit-learn>=1.0.2->mlxtend) (2.2.0)\n",
      "Requirement already satisfied: six>=1.5 in c:\\users\\harsh\\anaconda3\\lib\\site-packages (from python-dateutil>=2.7->matplotlib>=3.0.0->mlxtend) (1.16.0)\n"
     ]
    }
   ],
   "source": [
    "# Data visualization\n",
    "import matplotlib.pyplot as plt\n",
    "import seaborn as sns\n",
    "!pip install mlxtend\n",
    "from mlxtend.plotting import plot_confusion_matrix"
   ]
  },
  {
   "cell_type": "code",
   "execution_count": 28,
   "id": "5ad228bb",
   "metadata": {},
   "outputs": [],
   "source": [
    "fake = pd.read_csv('Fake.csv')\n",
    "real = pd.read_csv('True.csv')"
   ]
  },
  {
   "cell_type": "code",
   "execution_count": 29,
   "id": "d2752075",
   "metadata": {},
   "outputs": [
    {
     "data": {
      "text/html": [
       "<div>\n",
       "<style scoped>\n",
       "    .dataframe tbody tr th:only-of-type {\n",
       "        vertical-align: middle;\n",
       "    }\n",
       "\n",
       "    .dataframe tbody tr th {\n",
       "        vertical-align: top;\n",
       "    }\n",
       "\n",
       "    .dataframe thead th {\n",
       "        text-align: right;\n",
       "    }\n",
       "</style>\n",
       "<table border=\"1\" class=\"dataframe\">\n",
       "  <thead>\n",
       "    <tr style=\"text-align: right;\">\n",
       "      <th></th>\n",
       "      <th>title</th>\n",
       "      <th>text</th>\n",
       "      <th>subject</th>\n",
       "      <th>date</th>\n",
       "    </tr>\n",
       "  </thead>\n",
       "  <tbody>\n",
       "    <tr>\n",
       "      <th>0</th>\n",
       "      <td>Donald Trump Sends Out Embarrassing New Year’...</td>\n",
       "      <td>Donald Trump just couldn t wish all Americans ...</td>\n",
       "      <td>News</td>\n",
       "      <td>December 31, 2017</td>\n",
       "    </tr>\n",
       "    <tr>\n",
       "      <th>1</th>\n",
       "      <td>Drunk Bragging Trump Staffer Started Russian ...</td>\n",
       "      <td>House Intelligence Committee Chairman Devin Nu...</td>\n",
       "      <td>News</td>\n",
       "      <td>December 31, 2017</td>\n",
       "    </tr>\n",
       "    <tr>\n",
       "      <th>2</th>\n",
       "      <td>Sheriff David Clarke Becomes An Internet Joke...</td>\n",
       "      <td>On Friday, it was revealed that former Milwauk...</td>\n",
       "      <td>News</td>\n",
       "      <td>December 30, 2017</td>\n",
       "    </tr>\n",
       "    <tr>\n",
       "      <th>3</th>\n",
       "      <td>Trump Is So Obsessed He Even Has Obama’s Name...</td>\n",
       "      <td>On Christmas day, Donald Trump announced that ...</td>\n",
       "      <td>News</td>\n",
       "      <td>December 29, 2017</td>\n",
       "    </tr>\n",
       "    <tr>\n",
       "      <th>4</th>\n",
       "      <td>Pope Francis Just Called Out Donald Trump Dur...</td>\n",
       "      <td>Pope Francis used his annual Christmas Day mes...</td>\n",
       "      <td>News</td>\n",
       "      <td>December 25, 2017</td>\n",
       "    </tr>\n",
       "  </tbody>\n",
       "</table>\n",
       "</div>"
      ],
      "text/plain": [
       "                                               title  \\\n",
       "0   Donald Trump Sends Out Embarrassing New Year’...   \n",
       "1   Drunk Bragging Trump Staffer Started Russian ...   \n",
       "2   Sheriff David Clarke Becomes An Internet Joke...   \n",
       "3   Trump Is So Obsessed He Even Has Obama’s Name...   \n",
       "4   Pope Francis Just Called Out Donald Trump Dur...   \n",
       "\n",
       "                                                text subject  \\\n",
       "0  Donald Trump just couldn t wish all Americans ...    News   \n",
       "1  House Intelligence Committee Chairman Devin Nu...    News   \n",
       "2  On Friday, it was revealed that former Milwauk...    News   \n",
       "3  On Christmas day, Donald Trump announced that ...    News   \n",
       "4  Pope Francis used his annual Christmas Day mes...    News   \n",
       "\n",
       "                date  \n",
       "0  December 31, 2017  \n",
       "1  December 31, 2017  \n",
       "2  December 30, 2017  \n",
       "3  December 29, 2017  \n",
       "4  December 25, 2017  "
      ]
     },
     "metadata": {},
     "output_type": "display_data"
    }
   ],
   "source": [
    "display(fake.head())"
   ]
  },
  {
   "cell_type": "code",
   "execution_count": 30,
   "id": "8441b5b2",
   "metadata": {},
   "outputs": [
    {
     "data": {
      "text/html": [
       "<div>\n",
       "<style scoped>\n",
       "    .dataframe tbody tr th:only-of-type {\n",
       "        vertical-align: middle;\n",
       "    }\n",
       "\n",
       "    .dataframe tbody tr th {\n",
       "        vertical-align: top;\n",
       "    }\n",
       "\n",
       "    .dataframe thead th {\n",
       "        text-align: right;\n",
       "    }\n",
       "</style>\n",
       "<table border=\"1\" class=\"dataframe\">\n",
       "  <thead>\n",
       "    <tr style=\"text-align: right;\">\n",
       "      <th></th>\n",
       "      <th>title</th>\n",
       "      <th>text</th>\n",
       "      <th>subject</th>\n",
       "      <th>date</th>\n",
       "    </tr>\n",
       "  </thead>\n",
       "  <tbody>\n",
       "    <tr>\n",
       "      <th>0</th>\n",
       "      <td>As U.S. budget fight looms, Republicans flip t...</td>\n",
       "      <td>WASHINGTON (Reuters) - The head of a conservat...</td>\n",
       "      <td>politicsNews</td>\n",
       "      <td>December 31, 2017</td>\n",
       "    </tr>\n",
       "    <tr>\n",
       "      <th>1</th>\n",
       "      <td>U.S. military to accept transgender recruits o...</td>\n",
       "      <td>WASHINGTON (Reuters) - Transgender people will...</td>\n",
       "      <td>politicsNews</td>\n",
       "      <td>December 29, 2017</td>\n",
       "    </tr>\n",
       "    <tr>\n",
       "      <th>2</th>\n",
       "      <td>Senior U.S. Republican senator: 'Let Mr. Muell...</td>\n",
       "      <td>WASHINGTON (Reuters) - The special counsel inv...</td>\n",
       "      <td>politicsNews</td>\n",
       "      <td>December 31, 2017</td>\n",
       "    </tr>\n",
       "    <tr>\n",
       "      <th>3</th>\n",
       "      <td>FBI Russia probe helped by Australian diplomat...</td>\n",
       "      <td>WASHINGTON (Reuters) - Trump campaign adviser ...</td>\n",
       "      <td>politicsNews</td>\n",
       "      <td>December 30, 2017</td>\n",
       "    </tr>\n",
       "    <tr>\n",
       "      <th>4</th>\n",
       "      <td>Trump wants Postal Service to charge 'much mor...</td>\n",
       "      <td>SEATTLE/WASHINGTON (Reuters) - President Donal...</td>\n",
       "      <td>politicsNews</td>\n",
       "      <td>December 29, 2017</td>\n",
       "    </tr>\n",
       "  </tbody>\n",
       "</table>\n",
       "</div>"
      ],
      "text/plain": [
       "                                               title  \\\n",
       "0  As U.S. budget fight looms, Republicans flip t...   \n",
       "1  U.S. military to accept transgender recruits o...   \n",
       "2  Senior U.S. Republican senator: 'Let Mr. Muell...   \n",
       "3  FBI Russia probe helped by Australian diplomat...   \n",
       "4  Trump wants Postal Service to charge 'much mor...   \n",
       "\n",
       "                                                text       subject  \\\n",
       "0  WASHINGTON (Reuters) - The head of a conservat...  politicsNews   \n",
       "1  WASHINGTON (Reuters) - Transgender people will...  politicsNews   \n",
       "2  WASHINGTON (Reuters) - The special counsel inv...  politicsNews   \n",
       "3  WASHINGTON (Reuters) - Trump campaign adviser ...  politicsNews   \n",
       "4  SEATTLE/WASHINGTON (Reuters) - President Donal...  politicsNews   \n",
       "\n",
       "                 date  \n",
       "0  December 31, 2017   \n",
       "1  December 29, 2017   \n",
       "2  December 31, 2017   \n",
       "3  December 30, 2017   \n",
       "4  December 29, 2017   "
      ]
     },
     "metadata": {},
     "output_type": "display_data"
    }
   ],
   "source": [
    "display(real.head())"
   ]
  },
  {
   "cell_type": "code",
   "execution_count": 31,
   "id": "70323c42",
   "metadata": {},
   "outputs": [
    {
     "name": "stdout",
     "output_type": "stream",
     "text": [
      "<class 'pandas.core.frame.DataFrame'>\n",
      "RangeIndex: 23481 entries, 0 to 23480\n",
      "Data columns (total 4 columns):\n",
      " #   Column   Non-Null Count  Dtype \n",
      "---  ------   --------------  ----- \n",
      " 0   title    23481 non-null  object\n",
      " 1   text     23481 non-null  object\n",
      " 2   subject  23481 non-null  object\n",
      " 3   date     23481 non-null  object\n",
      "dtypes: object(4)\n",
      "memory usage: 733.9+ KB\n"
     ]
    },
    {
     "data": {
      "text/plain": [
       "None"
      ]
     },
     "metadata": {},
     "output_type": "display_data"
    },
    {
     "name": "stdout",
     "output_type": "stream",
     "text": [
      "\n",
      "\n",
      "<class 'pandas.core.frame.DataFrame'>\n",
      "RangeIndex: 21417 entries, 0 to 21416\n",
      "Data columns (total 4 columns):\n",
      " #   Column   Non-Null Count  Dtype \n",
      "---  ------   --------------  ----- \n",
      " 0   title    21417 non-null  object\n",
      " 1   text     21417 non-null  object\n",
      " 2   subject  21417 non-null  object\n",
      " 3   date     21417 non-null  object\n",
      "dtypes: object(4)\n",
      "memory usage: 669.4+ KB\n"
     ]
    },
    {
     "data": {
      "text/plain": [
       "None"
      ]
     },
     "metadata": {},
     "output_type": "display_data"
    }
   ],
   "source": [
    "display(fake.info())\n",
    "print('\\n')\n",
    "display(real.info())\n"
   ]
  },
  {
   "cell_type": "code",
   "execution_count": 32,
   "id": "7d359857",
   "metadata": {},
   "outputs": [
    {
     "data": {
      "text/plain": [
       "News               9050\n",
       "politics           6841\n",
       "left-news          4459\n",
       "Government News    1570\n",
       "US_News             783\n",
       "Middle-east         778\n",
       "Name: subject, dtype: int64"
      ]
     },
     "metadata": {},
     "output_type": "display_data"
    },
    {
     "name": "stdout",
     "output_type": "stream",
     "text": [
      "\n",
      "\n"
     ]
    },
    {
     "data": {
      "text/plain": [
       "politicsNews    11272\n",
       "worldnews       10145\n",
       "Name: subject, dtype: int64"
      ]
     },
     "metadata": {},
     "output_type": "display_data"
    }
   ],
   "source": [
    "display(fake.subject.value_counts())\n",
    "print('\\n')\n",
    "display(real.subject.value_counts())\n"
   ]
  },
  {
   "cell_type": "code",
   "execution_count": 33,
   "id": "87fb9f72",
   "metadata": {},
   "outputs": [],
   "source": [
    "fake['label'] = 'fake'\n",
    "real['label'] = 'real'"
   ]
  },
  {
   "cell_type": "code",
   "execution_count": 34,
   "id": "7ba49204",
   "metadata": {},
   "outputs": [
    {
     "data": {
      "text/html": [
       "<div>\n",
       "<style scoped>\n",
       "    .dataframe tbody tr th:only-of-type {\n",
       "        vertical-align: middle;\n",
       "    }\n",
       "\n",
       "    .dataframe tbody tr th {\n",
       "        vertical-align: top;\n",
       "    }\n",
       "\n",
       "    .dataframe thead th {\n",
       "        text-align: right;\n",
       "    }\n",
       "</style>\n",
       "<table border=\"1\" class=\"dataframe\">\n",
       "  <thead>\n",
       "    <tr style=\"text-align: right;\">\n",
       "      <th></th>\n",
       "      <th>title</th>\n",
       "      <th>text</th>\n",
       "      <th>date</th>\n",
       "      <th>label</th>\n",
       "    </tr>\n",
       "  </thead>\n",
       "  <tbody>\n",
       "    <tr>\n",
       "      <th>0</th>\n",
       "      <td>FOX NEWS BOMBSHELL REPORT: Trump Transition Te...</td>\n",
       "      <td>On Friday, Democrats were doing their best to ...</td>\n",
       "      <td>Dec 16, 2017</td>\n",
       "      <td>fake</td>\n",
       "    </tr>\n",
       "    <tr>\n",
       "      <th>1</th>\n",
       "      <td>Myanmar police to free journalists working for...</td>\n",
       "      <td>(Reuters) - Myanmar police said on Tuesday the...</td>\n",
       "      <td>December 26, 2017</td>\n",
       "      <td>real</td>\n",
       "    </tr>\n",
       "    <tr>\n",
       "      <th>2</th>\n",
       "      <td>BOOM! LIBERAL COLUMNIST Gets DESTROYED By Tuck...</td>\n",
       "      <td></td>\n",
       "      <td>Nov 18, 2016</td>\n",
       "      <td>fake</td>\n",
       "    </tr>\n",
       "    <tr>\n",
       "      <th>3</th>\n",
       "      <td>HE WAS SO CLOSE: We Were “Obamerica”…We Were M...</td>\n",
       "      <td>Obama and his supporters loved talking about h...</td>\n",
       "      <td>Jan 5, 2017</td>\n",
       "      <td>fake</td>\n",
       "    </tr>\n",
       "    <tr>\n",
       "      <th>4</th>\n",
       "      <td>FIRST GRADE TEACHER READS TRANSGENDER BOOK TO ...</td>\n",
       "      <td>Seriously? FIRST GRADE? When are parents going...</td>\n",
       "      <td>Apr 20, 2015</td>\n",
       "      <td>fake</td>\n",
       "    </tr>\n",
       "    <tr>\n",
       "      <th>...</th>\n",
       "      <td>...</td>\n",
       "      <td>...</td>\n",
       "      <td>...</td>\n",
       "      <td>...</td>\n",
       "    </tr>\n",
       "    <tr>\n",
       "      <th>44893</th>\n",
       "      <td>China says willing to keep playing constructiv...</td>\n",
       "      <td>BEIJING (Reuters) - Chinese Foreign Minister W...</td>\n",
       "      <td>November 20, 2017</td>\n",
       "      <td>real</td>\n",
       "    </tr>\n",
       "    <tr>\n",
       "      <th>44894</th>\n",
       "      <td>MUSLIM Illegal Alien Claims SEX WITH DEAD GIRL...</td>\n",
       "      <td>The Obama trifecta: A Muslim an Illegal Alien ...</td>\n",
       "      <td>Jan 22, 2016</td>\n",
       "      <td>fake</td>\n",
       "    </tr>\n",
       "    <tr>\n",
       "      <th>44895</th>\n",
       "      <td>Putin Just Spit In America’s Face And Trump T...</td>\n",
       "      <td>For more than 30 years, Donald Trump has built...</td>\n",
       "      <td>August 10, 2017</td>\n",
       "      <td>fake</td>\n",
       "    </tr>\n",
       "    <tr>\n",
       "      <th>44896</th>\n",
       "      <td>Russian lawmakers approve \"foreign agents\" med...</td>\n",
       "      <td>MOSCOW (Reuters) - Russia s lower house of par...</td>\n",
       "      <td>November 15, 2017</td>\n",
       "      <td>real</td>\n",
       "    </tr>\n",
       "    <tr>\n",
       "      <th>44897</th>\n",
       "      <td>U.S. may sanction four countries for refusing ...</td>\n",
       "      <td>WASHINGTON (Reuters) - The United States could...</td>\n",
       "      <td>August 24, 2017</td>\n",
       "      <td>real</td>\n",
       "    </tr>\n",
       "  </tbody>\n",
       "</table>\n",
       "<p>44898 rows × 4 columns</p>\n",
       "</div>"
      ],
      "text/plain": [
       "                                                   title  \\\n",
       "0      FOX NEWS BOMBSHELL REPORT: Trump Transition Te...   \n",
       "1      Myanmar police to free journalists working for...   \n",
       "2      BOOM! LIBERAL COLUMNIST Gets DESTROYED By Tuck...   \n",
       "3      HE WAS SO CLOSE: We Were “Obamerica”…We Were M...   \n",
       "4      FIRST GRADE TEACHER READS TRANSGENDER BOOK TO ...   \n",
       "...                                                  ...   \n",
       "44893  China says willing to keep playing constructiv...   \n",
       "44894  MUSLIM Illegal Alien Claims SEX WITH DEAD GIRL...   \n",
       "44895   Putin Just Spit In America’s Face And Trump T...   \n",
       "44896  Russian lawmakers approve \"foreign agents\" med...   \n",
       "44897  U.S. may sanction four countries for refusing ...   \n",
       "\n",
       "                                                    text                date  \\\n",
       "0      On Friday, Democrats were doing their best to ...        Dec 16, 2017   \n",
       "1      (Reuters) - Myanmar police said on Tuesday the...  December 26, 2017    \n",
       "2                                                               Nov 18, 2016   \n",
       "3      Obama and his supporters loved talking about h...         Jan 5, 2017   \n",
       "4      Seriously? FIRST GRADE? When are parents going...        Apr 20, 2015   \n",
       "...                                                  ...                 ...   \n",
       "44893  BEIJING (Reuters) - Chinese Foreign Minister W...  November 20, 2017    \n",
       "44894  The Obama trifecta: A Muslim an Illegal Alien ...        Jan 22, 2016   \n",
       "44895  For more than 30 years, Donald Trump has built...     August 10, 2017   \n",
       "44896  MOSCOW (Reuters) - Russia s lower house of par...  November 15, 2017    \n",
       "44897  WASHINGTON (Reuters) - The United States could...    August 24, 2017    \n",
       "\n",
       "      label  \n",
       "0      fake  \n",
       "1      real  \n",
       "2      fake  \n",
       "3      fake  \n",
       "4      fake  \n",
       "...     ...  \n",
       "44893  real  \n",
       "44894  fake  \n",
       "44895  fake  \n",
       "44896  real  \n",
       "44897  real  \n",
       "\n",
       "[44898 rows x 4 columns]"
      ]
     },
     "execution_count": 34,
     "metadata": {},
     "output_type": "execute_result"
    }
   ],
   "source": [
    "data = pd.concat([fake, real], axis=0)\n",
    "data = data.sample(frac=1).reset_index(drop=True)\n",
    "data.drop('subject', axis=1)\n"
   ]
  },
  {
   "cell_type": "code",
   "execution_count": 35,
   "id": "c49afd17",
   "metadata": {},
   "outputs": [
    {
     "data": {
      "text/plain": [
       "9052     Where s the outcry from the left about the mis...\n",
       "30164    On June 15, 2016, President Trump warned Ameri...\n",
       "10286    BAGHDAD (Reuters) - An Iraqi Yazidi group affi...\n",
       "39569    Fox News pundit and co-host Stacey Dash attrac...\n",
       "33302    The GOP likes to pretend that they have no iss...\n",
       "Name: text, dtype: object"
      ]
     },
     "metadata": {},
     "output_type": "display_data"
    },
    {
     "name": "stdout",
     "output_type": "stream",
     "text": [
      "\n",
      "\n"
     ]
    },
    {
     "data": {
      "text/plain": [
       "9052     fake\n",
       "30164    fake\n",
       "10286    real\n",
       "39569    fake\n",
       "33302    fake\n",
       "Name: label, dtype: object"
      ]
     },
     "metadata": {},
     "output_type": "display_data"
    },
    {
     "name": "stdout",
     "output_type": "stream",
     "text": [
      "\n",
      "There are 33673 documents in the training data.\n"
     ]
    }
   ],
   "source": [
    "X_train, X_test, y_train, y_test = train_test_split(data['text'], data['label'], test_size=0.25)\n",
    "display(X_train.head())\n",
    "print('\\n')\n",
    "display(y_train.head())\n",
    "print(\"\\nThere are {} documents in the training data.\".format(len(X_train)))"
   ]
  },
  {
   "cell_type": "code",
   "execution_count": 36,
   "id": "cefd4932",
   "metadata": {},
   "outputs": [],
   "source": [
    "#Feature extraction"
   ]
  },
  {
   "cell_type": "code",
   "execution_count": 37,
   "id": "dfd635f5",
   "metadata": {},
   "outputs": [
    {
     "data": {
      "text/plain": [
       "<33673x108027 sparse matrix of type '<class 'numpy.float64'>'\n",
       "\twith 5128089 stored elements in Compressed Sparse Row format>"
      ]
     },
     "execution_count": 37,
     "metadata": {},
     "output_type": "execute_result"
    }
   ],
   "source": [
    "my_tfidf = TfidfVectorizer(stop_words='english', max_df=0.7)\n",
    "# fit the vectorizer and transform X_train into a tf-idf matrix,\n",
    "# then use the same vectorizer to transform X_test\n",
    "tfidf_train = my_tfidf.fit_transform(X_train)\n",
    "tfidf_test = my_tfidf.transform(X_test)\n",
    "tfidf_train\n"
   ]
  },
  {
   "cell_type": "code",
   "execution_count": 38,
   "id": "c98ab8ba",
   "metadata": {},
   "outputs": [],
   "source": [
    "#Model training"
   ]
  },
  {
   "cell_type": "code",
   "execution_count": 39,
   "id": "c8453858",
   "metadata": {},
   "outputs": [
    {
     "data": {
      "text/plain": [
       "PassiveAggressiveClassifier(max_iter=50)"
      ]
     },
     "execution_count": 39,
     "metadata": {},
     "output_type": "execute_result"
    }
   ],
   "source": [
    "from sklearn.linear_model import PassiveAggressiveClassifier\n",
    "pa_clf = PassiveAggressiveClassifier(max_iter=50)\n",
    "pa_clf.fit(tfidf_train, y_train)"
   ]
  },
  {
   "cell_type": "code",
   "execution_count": 40,
   "id": "413ced87",
   "metadata": {},
   "outputs": [
    {
     "name": "stdout",
     "output_type": "stream",
     "text": [
      "The accuracy of prediction is 99.28%.\n",
      "\n",
      "The F1 score is 0.992.\n",
      "\n"
     ]
    },
    {
     "data": {
      "image/png": "[encoded data removed]",
      "text/plain": [
       "<Figure size 640x480 with 2 Axes>"
      ]
     },
     "metadata": {},
     "output_type": "display_data"
    }
   ],
   "source": [
    "y_pred = pa_clf.predict(tfidf_test)\n",
    "conf_mat = confusion_matrix(y_test, y_pred)\n",
    "plot_confusion_matrix(conf_mat,\n",
    " show_normed=True, colorbar=True,\n",
    " class_names=['Fake', 'Real'])\n",
    "accscore = accuracy_score(y_test, y_pred)\n",
    "f1score = f1_score(y_test,y_pred,pos_label='real')\n",
    "print('The accuracy of prediction is {:.2f}%.\\n'.format(accscore*100))\n",
    "print('The F1 score is {:.3f}.\\n'.format(f1score))"
   ]
  },
  {
   "cell_type": "code",
   "execution_count": 41,
   "id": "0a7d11e4",
   "metadata": {},
   "outputs": [],
   "source": [
    "#Further exploration"
   ]
  },
  {
   "cell_type": "code",
   "execution_count": 42,
   "id": "28866e0f",
   "metadata": {},
   "outputs": [
    {
     "name": "stdout",
     "output_type": "stream",
     "text": [
      "Dimensionality (i.e., number of features): 108027\n",
      "Density (i.e., fraction of non-zero elements): 0.511\n"
     ]
    }
   ],
   "source": [
    "# Dimensionality and density of features\n",
    "print(\"Dimensionality (i.e., number of features): {:d}\".format(pa_clf.coef_.shape[1]))\n",
    "print(\"Density (i.e., fraction of non-zero elements): {:.3f}\".format(density(pa_clf.coef_)))"
   ]
  },
  {
   "cell_type": "code",
   "execution_count": 43,
   "id": "3dd8bdc1",
   "metadata": {},
   "outputs": [
    {
     "data": {
      "image/png": "[encoded data removed]",
      "text/plain": [
       "<Figure size 900x300 with 2 Axes>"
      ]
     },
     "metadata": {},
     "output_type": "display_data"
    }
   ],
   "source": [
    "# Sort non-zero weights\n",
    "weights_nonzero = pa_clf.coef_[pa_clf.coef_!=0]\n",
    "feature_sorter_nonzero = np.argsort(weights_nonzero)\n",
    "weights_nonzero_sorted =weights_nonzero[feature_sorter_nonzero]\n",
    "# Plot\n",
    "fig, axs = plt.subplots(1,2, figsize=(9,3))\n",
    "sns.lineplot(data=weights_nonzero_sorted, ax=axs[0])\n",
    "axs[0].set_ylabel('Weight')\n",
    "axs[0].set_xlabel('Feature number \\n (Zero-weight omitted)')\n",
    "axs[1].hist(weights_nonzero_sorted,\n",
    " orientation='horizontal', bins=500,)\n",
    "axs[1].set_xlabel('Count')\n",
    "fig.suptitle('Weight distribution in features with non-zero weights')\n",
    "plt.show()\n"
   ]
  },
  {
   "cell_type": "code",
   "execution_count": 44,
   "id": "dbb3d5bd",
   "metadata": {},
   "outputs": [],
   "source": [
    "#Extracting \"Indicator\" Tokens"
   ]
  },
  {
   "cell_type": "code",
   "execution_count": 91,
   "id": "80421826",
   "metadata": {},
   "outputs": [
    {
     "name": "stdout",
     "output_type": "stream",
     "text": [
      "The top 10 tokens likely to appear in fake news were the following: \n",
      "\n"
     ]
    },
    {
     "data": {
      "text/html": [
       "<div>\n",
       "<style scoped>\n",
       "    .dataframe tbody tr th:only-of-type {\n",
       "        vertical-align: middle;\n",
       "    }\n",
       "\n",
       "    .dataframe tbody tr th {\n",
       "        vertical-align: top;\n",
       "    }\n",
       "\n",
       "    .dataframe thead th {\n",
       "        text-align: right;\n",
       "    }\n",
       "</style>\n",
       "<table border=\"1\" class=\"dataframe\">\n",
       "  <thead>\n",
       "    <tr style=\"text-align: right;\">\n",
       "      <th></th>\n",
       "      <th>Token</th>\n",
       "      <th>Weight</th>\n",
       "    </tr>\n",
       "  </thead>\n",
       "  <tbody>\n",
       "    <tr>\n",
       "      <th>0</th>\n",
       "      <td>read</td>\n",
       "      <td>-7.619189</td>\n",
       "    </tr>\n",
       "    <tr>\n",
       "      <th>1</th>\n",
       "      <td>featured</td>\n",
       "      <td>-7.469582</td>\n",
       "    </tr>\n",
       "    <tr>\n",
       "      <th>2</th>\n",
       "      <td>image</td>\n",
       "      <td>-7.233118</td>\n",
       "    </tr>\n",
       "    <tr>\n",
       "      <th>3</th>\n",
       "      <td>gop</td>\n",
       "      <td>-6.003824</td>\n",
       "    </tr>\n",
       "    <tr>\n",
       "      <th>4</th>\n",
       "      <td>just</td>\n",
       "      <td>-5.654481</td>\n",
       "    </tr>\n",
       "    <tr>\n",
       "      <th>5</th>\n",
       "      <td>getty</td>\n",
       "      <td>-5.090085</td>\n",
       "    </tr>\n",
       "    <tr>\n",
       "      <th>6</th>\n",
       "      <td>com</td>\n",
       "      <td>-4.829277</td>\n",
       "    </tr>\n",
       "    <tr>\n",
       "      <th>7</th>\n",
       "      <td>hillary</td>\n",
       "      <td>-4.098337</td>\n",
       "    </tr>\n",
       "    <tr>\n",
       "      <th>8</th>\n",
       "      <td>sen</td>\n",
       "      <td>-3.948123</td>\n",
       "    </tr>\n",
       "    <tr>\n",
       "      <th>9</th>\n",
       "      <td>rep</td>\n",
       "      <td>-3.941254</td>\n",
       "    </tr>\n",
       "  </tbody>\n",
       "</table>\n",
       "</div>"
      ],
      "text/plain": [
       "      Token    Weight\n",
       "0      read -7.619189\n",
       "1  featured -7.469582\n",
       "2     image -7.233118\n",
       "3       gop -6.003824\n",
       "4      just -5.654481\n",
       "5     getty -5.090085\n",
       "6       com -4.829277\n",
       "7   hillary -4.098337\n",
       "8       sen -3.948123\n",
       "9       rep -3.941254"
      ]
     },
     "metadata": {},
     "output_type": "display_data"
    },
    {
     "name": "stdout",
     "output_type": "stream",
     "text": [
      "\n",
      "\n",
      "...and the top 10 tokens likely to appear in real news were the following: \n",
      "\n"
     ]
    },
    {
     "data": {
      "text/html": [
       "<div>\n",
       "<style scoped>\n",
       "    .dataframe tbody tr th:only-of-type {\n",
       "        vertical-align: middle;\n",
       "    }\n",
       "\n",
       "    .dataframe tbody tr th {\n",
       "        vertical-align: top;\n",
       "    }\n",
       "\n",
       "    .dataframe thead th {\n",
       "        text-align: right;\n",
       "    }\n",
       "</style>\n",
       "<table border=\"1\" class=\"dataframe\">\n",
       "  <thead>\n",
       "    <tr style=\"text-align: right;\">\n",
       "      <th></th>\n",
       "      <th>Token</th>\n",
       "      <th>Weight</th>\n",
       "    </tr>\n",
       "  </thead>\n",
       "  <tbody>\n",
       "    <tr>\n",
       "      <th>0</th>\n",
       "      <td>reuters</td>\n",
       "      <td>30.589775</td>\n",
       "    </tr>\n",
       "    <tr>\n",
       "      <th>1</th>\n",
       "      <td>nov</td>\n",
       "      <td>4.857763</td>\n",
       "    </tr>\n",
       "    <tr>\n",
       "      <th>2</th>\n",
       "      <td>washington</td>\n",
       "      <td>4.649589</td>\n",
       "    </tr>\n",
       "    <tr>\n",
       "      <th>3</th>\n",
       "      <td>republican</td>\n",
       "      <td>4.488649</td>\n",
       "    </tr>\n",
       "    <tr>\n",
       "      <th>4</th>\n",
       "      <td>wednesday</td>\n",
       "      <td>4.204168</td>\n",
       "    </tr>\n",
       "    <tr>\n",
       "      <th>5</th>\n",
       "      <td>tuesday</td>\n",
       "      <td>4.022558</td>\n",
       "    </tr>\n",
       "    <tr>\n",
       "      <th>6</th>\n",
       "      <td>thursday</td>\n",
       "      <td>3.683755</td>\n",
       "    </tr>\n",
       "    <tr>\n",
       "      <th>7</th>\n",
       "      <td>friday</td>\n",
       "      <td>3.075548</td>\n",
       "    </tr>\n",
       "    <tr>\n",
       "      <th>8</th>\n",
       "      <td>comment</td>\n",
       "      <td>3.038689</td>\n",
       "    </tr>\n",
       "    <tr>\n",
       "      <th>9</th>\n",
       "      <td>statement</td>\n",
       "      <td>3.014211</td>\n",
       "    </tr>\n",
       "  </tbody>\n",
       "</table>\n",
       "</div>"
      ],
      "text/plain": [
       "        Token     Weight\n",
       "0     reuters  30.589775\n",
       "1         nov   4.857763\n",
       "2  washington   4.649589\n",
       "3  republican   4.488649\n",
       "4   wednesday   4.204168\n",
       "5     tuesday   4.022558\n",
       "6    thursday   3.683755\n",
       "7      friday   3.075548\n",
       "8     comment   3.038689\n",
       "9   statement   3.014211"
      ]
     },
     "metadata": {},
     "output_type": "display_data"
    }
   ],
   "source": [
    "# Sort features by their associated weights\n",
    "tokens = my_tfidf.get_feature_names_out()\n",
    "tokens_nonzero = np.array(tokens)[pa_clf.coef_[0]!=0]\n",
    "tokens_nonzero_sorted = np.array(tokens_nonzero)[feature_sorter_nonzero]\n",
    "num_tokens = 10\n",
    "fake_indicator_tokens = tokens_nonzero_sorted[:num_tokens]\n",
    "real_indicator_tokens = np.flip(tokens_nonzero_sorted[-num_tokens:])\n",
    "fake_indicator = pd.DataFrame({\n",
    " 'Token': fake_indicator_tokens,\n",
    " 'Weight': weights_nonzero_sorted[:num_tokens]\n",
    "})\n",
    "real_indicator = pd.DataFrame({\n",
    " 'Token': real_indicator_tokens,\n",
    " 'Weight': np.flip(weights_nonzero_sorted[-num_tokens:])\n",
    "})\n",
    "print('The top {} tokens likely to appear in fake news were the following: \\n'.format(num_tokens))\n",
    "display(fake_indicator)\n",
    "print('\\n\\n...and the top {} tokens likely to appear in real news were the following: \\n'.format(num_tokens))\n",
    "display(real_indicator)"
   ]
  },
  {
   "cell_type": "code",
   "execution_count": 46,
   "id": "a1ecafae",
   "metadata": {},
   "outputs": [
    {
     "name": "stdout",
     "output_type": "stream",
     "text": [
      "Articles that contained any of the matching indicator tokens:\n",
      "\n",
      "FAKE: 21913 out of 23481 (93.32%)\n",
      "0        Donald Trump just couldn t wish all Americans ...\n",
      "1        House Intelligence Committee Chairman Devin Nu...\n",
      "2        On Friday, it was revealed that former Milwauk...\n",
      "3        On Christmas day, Donald Trump announced that ...\n",
      "4        Pope Francis used his annual Christmas Day mes...\n",
      "                               ...                        \n",
      "23476    21st Century Wire says As 21WIRE reported earl...\n",
      "23477    21st Century Wire says It s a familiar theme. ...\n",
      "23478    Patrick Henningsen  21st Century WireRemember ...\n",
      "23479    21st Century Wire says Al Jazeera America will...\n",
      "23480    21st Century Wire says As 21WIRE predicted in ...\n",
      "Name: text, Length: 21913, dtype: object\n",
      "\n",
      "REAL: 21409 out of 21417 (99.96%)\n",
      "0        WASHINGTON (Reuters) - The head of a conservat...\n",
      "1        WASHINGTON (Reuters) - Transgender people will...\n",
      "2        WASHINGTON (Reuters) - The special counsel inv...\n",
      "3        WASHINGTON (Reuters) - Trump campaign adviser ...\n",
      "4        SEATTLE/WASHINGTON (Reuters) - President Donal...\n",
      "                               ...                        \n",
      "21412    BRUSSELS (Reuters) - NATO allies on Tuesday we...\n",
      "21413    LONDON (Reuters) - LexisNexis, a provider of l...\n",
      "21414    MINSK (Reuters) - In the shadow of disused Sov...\n",
      "21415    MOSCOW (Reuters) - Vatican Secretary of State ...\n",
      "21416    JAKARTA (Reuters) - Indonesia will buy 11 Sukh...\n",
      "Name: text, Length: 21409, dtype: object\n"
     ]
    }
   ],
   "source": [
    "fake_contain_fake = fake.text.loc[[np.any([token in body for token in fake_indicator.Token])\n",
    " for body in fake.text.str.lower()]]\n",
    "real_contain_real = real.text.loc[[np.any([token in body for token in real_indicator.Token])\n",
    " for body in real.text.str.lower()]]\n",
    "print('Articles that contained any of the matching indicator tokens:\\n')\n",
    "print('FAKE: {} out of {} ({:.2f}%)'\n",
    " .format(len(fake_contain_fake), len(fake), len(fake_contain_fake)/len(fake) * 100))\n",
    "print(fake_contain_fake)\n",
    "print('\\nREAL: {} out of {} ({:.2f}%)'\n",
    " .format(len(real_contain_real), len(real), len(real_contain_real)/len(real) * 100))\n",
    "print(real_contain_real)"
   ]
  },
  {
   "cell_type": "code",
   "execution_count": 47,
   "id": "18ac1ebb",
   "metadata": {},
   "outputs": [],
   "source": [
    "#Generalizability\n",
    "def FakeNewsDetection(X, y):\n",
    " X_train, X_test, y_train, y_test = train_test_split(X, y, test_size=0.25)\n",
    " \n",
    " # vectorizer\n",
    " my_tfidf = TfidfVectorizer(stop_words='english', max_df=0.7)\n",
    " tfidf_train = my_tfidf.fit_transform(X_train)\n",
    " tfidf_test = my_tfidf.transform(X_test)\n",
    " \n",
    " # model\n",
    " my_pac = PassiveAggressiveClassifier(max_iter=50)\n",
    " my_pac.fit(tfidf_train, y_train)\n",
    " y_pred = my_pac.predict(tfidf_test)\n",
    " \n",
    " # metrics\n",
    " conf_mat = confusion_matrix(y_test, y_pred)\n",
    " plot_confusion_matrix(conf_mat,\n",
    " show_normed=True, colorbar=True,\n",
    " class_names=['Fake', 'Real'])\n",
    " \n",
    " accscore = accuracy_score(y_test, y_pred)\n",
    " f1score = f1_score(y_test,y_pred,pos_label='real')\n",
    " print('The accuracy of prediction is {:.2f}%.\\n'.format(accscore*100))\n",
    " print('The F1 score is {:.3f}.\\n'.format(f1score))\n",
    " \n",
    " # Sort non-zero weights\n",
    " weights_nonzero = my_pac.coef_[my_pac.coef_!=0]\n",
    " feature_sorter_nonzero = np.argsort(weights_nonzero)\n",
    " weights_nonzero_sorted =weights_nonzero[feature_sorter_nonzero]\n",
    " \n",
    " # Sort features by their associated weights\n",
    " tokens = my_tfidf.get_feature_names_out()\n",
    " tokens_nonzero = np.array(tokens)[my_pac.coef_[0]!=0]\n",
    " tokens_nonzero_sorted = np.array(tokens_nonzero)[feature_sorter_nonzero]\n",
    " num_tokens = 10\n",
    " fake_indicator_tokens = tokens_nonzero_sorted[:num_tokens]\n",
    " real_indicator_tokens = np.flip(tokens_nonzero_sorted[-num_tokens:])\n",
    " fake_indicator = pd.DataFrame({\n",
    " 'Token': fake_indicator_tokens,\n",
    " 'Weight': weights_nonzero_sorted[:num_tokens]\n",
    " })\n",
    " real_indicator = pd.DataFrame({\n",
    " 'Token': real_indicator_tokens,\n",
    " 'Weight': np.flip(weights_nonzero_sorted[-num_tokens:])\n",
    " })\n",
    " print('The top {} tokens likely to appear in fake news were the following: \\n'.format(num_tokens))\n",
    " display(fake_indicator)\n",
    " print('\\n\\n...and the top {} tokens likely to appear in real news were the following: \\n'.format(num_tokens))\n",
    " display(real_indicator)"
   ]
  },
  {
   "cell_type": "code",
   "execution_count": 48,
   "id": "68bddbfa",
   "metadata": {},
   "outputs": [
    {
     "data": {
      "text/html": [
       "<div>\n",
       "<style scoped>\n",
       "    .dataframe tbody tr th:only-of-type {\n",
       "        vertical-align: middle;\n",
       "    }\n",
       "\n",
       "    .dataframe tbody tr th {\n",
       "        vertical-align: top;\n",
       "    }\n",
       "\n",
       "    .dataframe thead th {\n",
       "        text-align: right;\n",
       "    }\n",
       "</style>\n",
       "<table border=\"1\" class=\"dataframe\">\n",
       "  <thead>\n",
       "    <tr style=\"text-align: right;\">\n",
       "      <th></th>\n",
       "      <th>title</th>\n",
       "      <th>text</th>\n",
       "      <th>subject</th>\n",
       "      <th>date</th>\n",
       "      <th>label</th>\n",
       "    </tr>\n",
       "  </thead>\n",
       "  <tbody>\n",
       "    <tr>\n",
       "      <th>0</th>\n",
       "      <td>As U.S. budget fight looms, Republicans flip t...</td>\n",
       "      <td>The head of a conservative Republican faction ...</td>\n",
       "      <td>politicsNews</td>\n",
       "      <td>December 31, 2017</td>\n",
       "      <td>real</td>\n",
       "    </tr>\n",
       "    <tr>\n",
       "      <th>1</th>\n",
       "      <td>U.S. military to accept transgender recruits o...</td>\n",
       "      <td>Transgender people will be allowed for the fir...</td>\n",
       "      <td>politicsNews</td>\n",
       "      <td>December 29, 2017</td>\n",
       "      <td>real</td>\n",
       "    </tr>\n",
       "    <tr>\n",
       "      <th>2</th>\n",
       "      <td>Senior U.S. Republican senator: 'Let Mr. Muell...</td>\n",
       "      <td>The special counsel investigation of links bet...</td>\n",
       "      <td>politicsNews</td>\n",
       "      <td>December 31, 2017</td>\n",
       "      <td>real</td>\n",
       "    </tr>\n",
       "    <tr>\n",
       "      <th>3</th>\n",
       "      <td>FBI Russia probe helped by Australian diplomat...</td>\n",
       "      <td>Trump campaign adviser George Papadopoulos tol...</td>\n",
       "      <td>politicsNews</td>\n",
       "      <td>December 30, 2017</td>\n",
       "      <td>real</td>\n",
       "    </tr>\n",
       "    <tr>\n",
       "      <th>4</th>\n",
       "      <td>Trump wants Postal Service to charge 'much mor...</td>\n",
       "      <td>President Donald Trump called on the U.S. Post...</td>\n",
       "      <td>politicsNews</td>\n",
       "      <td>December 29, 2017</td>\n",
       "      <td>real</td>\n",
       "    </tr>\n",
       "  </tbody>\n",
       "</table>\n",
       "</div>"
      ],
      "text/plain": [
       "                                               title  \\\n",
       "0  As U.S. budget fight looms, Republicans flip t...   \n",
       "1  U.S. military to accept transgender recruits o...   \n",
       "2  Senior U.S. Republican senator: 'Let Mr. Muell...   \n",
       "3  FBI Russia probe helped by Australian diplomat...   \n",
       "4  Trump wants Postal Service to charge 'much mor...   \n",
       "\n",
       "                                                text       subject  \\\n",
       "0  The head of a conservative Republican faction ...  politicsNews   \n",
       "1  Transgender people will be allowed for the fir...  politicsNews   \n",
       "2  The special counsel investigation of links bet...  politicsNews   \n",
       "3  Trump campaign adviser George Papadopoulos tol...  politicsNews   \n",
       "4  President Donald Trump called on the U.S. Post...  politicsNews   \n",
       "\n",
       "                 date label  \n",
       "0  December 31, 2017   real  \n",
       "1  December 29, 2017   real  \n",
       "2  December 31, 2017   real  \n",
       "3  December 30, 2017   real  \n",
       "4  December 29, 2017   real  "
      ]
     },
     "execution_count": 48,
     "metadata": {},
     "output_type": "execute_result"
    }
   ],
   "source": [
    "# Generate a copy of the \"real news\" dataset and remove headings f\n",
    "real_copy = real.copy()\n",
    "for i,body in real.text.items():\n",
    "    if '(reuters)' in body.lower():\n",
    "        idx = body.lower().index('(reuters)') + len('(reuters) - ')\n",
    "        real_copy.text.iloc[i] = body[idx:]\n",
    "real_copy.head()\n"
   ]
  },
  {
   "cell_type": "code",
   "execution_count": 49,
   "id": "095ac158",
   "metadata": {},
   "outputs": [
    {
     "name": "stdout",
     "output_type": "stream",
     "text": [
      "The accuracy of prediction is 98.62%.\n",
      "\n",
      "The F1 score is 0.985.\n",
      "\n",
      "The top 10 tokens likely to appear in fake news were the following: \n",
      "\n"
     ]
    },
    {
     "data": {
      "text/html": [
       "<div>\n",
       "<style scoped>\n",
       "    .dataframe tbody tr th:only-of-type {\n",
       "        vertical-align: middle;\n",
       "    }\n",
       "\n",
       "    .dataframe tbody tr th {\n",
       "        vertical-align: top;\n",
       "    }\n",
       "\n",
       "    .dataframe thead th {\n",
       "        text-align: right;\n",
       "    }\n",
       "</style>\n",
       "<table border=\"1\" class=\"dataframe\">\n",
       "  <thead>\n",
       "    <tr style=\"text-align: right;\">\n",
       "      <th></th>\n",
       "      <th>Token</th>\n",
       "      <th>Weight</th>\n",
       "    </tr>\n",
       "  </thead>\n",
       "  <tbody>\n",
       "    <tr>\n",
       "      <th>0</th>\n",
       "      <td>read</td>\n",
       "      <td>-10.588480</td>\n",
       "    </tr>\n",
       "    <tr>\n",
       "      <th>1</th>\n",
       "      <td>featured</td>\n",
       "      <td>-9.868193</td>\n",
       "    </tr>\n",
       "    <tr>\n",
       "      <th>2</th>\n",
       "      <td>image</td>\n",
       "      <td>-9.297717</td>\n",
       "    </tr>\n",
       "    <tr>\n",
       "      <th>3</th>\n",
       "      <td>gop</td>\n",
       "      <td>-8.359532</td>\n",
       "    </tr>\n",
       "    <tr>\n",
       "      <th>4</th>\n",
       "      <td>getty</td>\n",
       "      <td>-7.416018</td>\n",
       "    </tr>\n",
       "    <tr>\n",
       "      <th>5</th>\n",
       "      <td>com</td>\n",
       "      <td>-6.816157</td>\n",
       "    </tr>\n",
       "    <tr>\n",
       "      <th>6</th>\n",
       "      <td>sen</td>\n",
       "      <td>-6.275466</td>\n",
       "    </tr>\n",
       "    <tr>\n",
       "      <th>7</th>\n",
       "      <td>rep</td>\n",
       "      <td>-6.160517</td>\n",
       "    </tr>\n",
       "    <tr>\n",
       "      <th>8</th>\n",
       "      <td>just</td>\n",
       "      <td>-5.990772</td>\n",
       "    </tr>\n",
       "    <tr>\n",
       "      <th>9</th>\n",
       "      <td>watch</td>\n",
       "      <td>-5.782323</td>\n",
       "    </tr>\n",
       "  </tbody>\n",
       "</table>\n",
       "</div>"
      ],
      "text/plain": [
       "      Token     Weight\n",
       "0      read -10.588480\n",
       "1  featured  -9.868193\n",
       "2     image  -9.297717\n",
       "3       gop  -8.359532\n",
       "4     getty  -7.416018\n",
       "5       com  -6.816157\n",
       "6       sen  -6.275466\n",
       "7       rep  -6.160517\n",
       "8      just  -5.990772\n",
       "9     watch  -5.782323"
      ]
     },
     "metadata": {},
     "output_type": "display_data"
    },
    {
     "name": "stdout",
     "output_type": "stream",
     "text": [
      "\n",
      "\n",
      "...and the top 10 tokens likely to appear in real news were the following: \n",
      "\n"
     ]
    },
    {
     "data": {
      "text/html": [
       "<div>\n",
       "<style scoped>\n",
       "    .dataframe tbody tr th:only-of-type {\n",
       "        vertical-align: middle;\n",
       "    }\n",
       "\n",
       "    .dataframe tbody tr th {\n",
       "        vertical-align: top;\n",
       "    }\n",
       "\n",
       "    .dataframe thead th {\n",
       "        text-align: right;\n",
       "    }\n",
       "</style>\n",
       "<table border=\"1\" class=\"dataframe\">\n",
       "  <thead>\n",
       "    <tr style=\"text-align: right;\">\n",
       "      <th></th>\n",
       "      <th>Token</th>\n",
       "      <th>Weight</th>\n",
       "    </tr>\n",
       "  </thead>\n",
       "  <tbody>\n",
       "    <tr>\n",
       "      <th>0</th>\n",
       "      <td>wednesday</td>\n",
       "      <td>7.486647</td>\n",
       "    </tr>\n",
       "    <tr>\n",
       "      <th>1</th>\n",
       "      <td>thursday</td>\n",
       "      <td>7.350122</td>\n",
       "    </tr>\n",
       "    <tr>\n",
       "      <th>2</th>\n",
       "      <td>tuesday</td>\n",
       "      <td>7.094145</td>\n",
       "    </tr>\n",
       "    <tr>\n",
       "      <th>3</th>\n",
       "      <td>friday</td>\n",
       "      <td>6.593630</td>\n",
       "    </tr>\n",
       "    <tr>\n",
       "      <th>4</th>\n",
       "      <td>nov</td>\n",
       "      <td>6.520451</td>\n",
       "    </tr>\n",
       "    <tr>\n",
       "      <th>5</th>\n",
       "      <td>monday</td>\n",
       "      <td>5.688662</td>\n",
       "    </tr>\n",
       "    <tr>\n",
       "      <th>6</th>\n",
       "      <td>reuters</td>\n",
       "      <td>5.667383</td>\n",
       "    </tr>\n",
       "    <tr>\n",
       "      <th>7</th>\n",
       "      <td>republican</td>\n",
       "      <td>4.993207</td>\n",
       "    </tr>\n",
       "    <tr>\n",
       "      <th>8</th>\n",
       "      <td>statement</td>\n",
       "      <td>4.471087</td>\n",
       "    </tr>\n",
       "    <tr>\n",
       "      <th>9</th>\n",
       "      <td>representatives</td>\n",
       "      <td>4.274833</td>\n",
       "    </tr>\n",
       "  </tbody>\n",
       "</table>\n",
       "</div>"
      ],
      "text/plain": [
       "             Token    Weight\n",
       "0        wednesday  7.486647\n",
       "1         thursday  7.350122\n",
       "2          tuesday  7.094145\n",
       "3           friday  6.593630\n",
       "4              nov  6.520451\n",
       "5           monday  5.688662\n",
       "6          reuters  5.667383\n",
       "7       republican  4.993207\n",
       "8        statement  4.471087\n",
       "9  representatives  4.274833"
      ]
     },
     "metadata": {},
     "output_type": "display_data"
    },
    {
     "data": {
      "image/png": "[encoded data removed]",
      "text/plain": [
       "<Figure size 640x480 with 2 Axes>"
      ]
     },
     "metadata": {},
     "output_type": "display_data"
    }
   ],
   "source": [
    "# Create new data, and run the algorithm\n",
    "data2 = pd.concat([fake, real_copy], axis=0)\n",
    "data2 = data2.sample(frac=1).reset_index(drop=True)\n",
    "data2.drop('subject', axis=1)\n",
    "FakeNewsDetection(data2['text'], data2['label'])"
   ]
  },
  {
   "cell_type": "code",
   "execution_count": 80,
   "id": "ebc654ef",
   "metadata": {},
   "outputs": [],
   "source": [
    "from keras.models import Sequential\n",
    "from keras.layers import LSTM, Dense, Embedding\n",
    "from keras.preprocessing.text import Tokenizer\n",
    "#from keras.preprocessing.sequence import pad_sequences\n",
    "import numpy as np\n",
    "\n",
    "# Tokenize and pad the training data\n",
    "tokenizer = Tokenizer()\n",
    "tokenizer.fit_on_texts(X_train)\n",
    "word_index = tokenizer.word_index\n",
    "X_train_seq = tokenizer.texts_to_sequences(X_train)\n",
    "X_train_pad = pad_sequences(X_train_seq, maxlen=500)\n"
   ]
  },
  {
   "cell_type": "code",
   "execution_count": 53,
   "id": "31b8d83a",
   "metadata": {},
   "outputs": [],
   "source": [
    "# Tokenize and pad the testing data\n",
    "X_test_seq = tokenizer.texts_to_sequences(X_test)\n",
    "X_test_pad = pad_sequences(X_test_seq, maxlen=500)\n",
    "\n"
   ]
  },
  {
   "cell_type": "code",
   "execution_count": 81,
   "id": "eebe14df",
   "metadata": {},
   "outputs": [],
   "source": [
    "# Build the LSTM model\n",
    "model = Sequential()\n",
    "model.add(Embedding(len(word_index)+1, 128, input_length=500))\n",
    "model.add(LSTM(128, dropout=0.2, recurrent_dropout=0.2))\n",
    "model.add(Dense(1, activation='sigmoid'))\n",
    "model.compile(loss='binary_crossentropy', optimizer='adam', metrics=['accuracy'])\n"
   ]
  },
  {
   "cell_type": "code",
   "execution_count": 72,
   "id": "b41049ff",
   "metadata": {},
   "outputs": [],
   "source": [
    "# create tokenizer\n",
    "tokenizer = Tokenizer(num_words=10000)\n",
    "tokenizer.fit_on_texts(X_train)\n"
   ]
  },
  {
   "cell_type": "code",
   "execution_count": 73,
   "id": "acb7b2cb",
   "metadata": {},
   "outputs": [],
   "source": [
    "# convert text to sequences of numbers\n",
    "X_train_seq = tokenizer.texts_to_sequences(X_train)\n",
    "X_test_seq = tokenizer.texts_to_sequences(X_test)"
   ]
  },
  {
   "cell_type": "code",
   "execution_count": 74,
   "id": "a82e0234",
   "metadata": {},
   "outputs": [],
   "source": [
    "# pad sequences to make them of equal length\n",
    "X_train_seq = pad_sequences(X_train_seq, maxlen=200)\n",
    "X_test_seq = pad_sequences(X_test_seq, maxlen=200)"
   ]
  },
  {
   "cell_type": "code",
   "execution_count": 75,
   "id": "a9e2ff50",
   "metadata": {},
   "outputs": [],
   "source": [
    "from keras.models import Sequential\n",
    "from keras.layers import Embedding, LSTM, Dense\n",
    "\n",
    "# define model architecture\n",
    "model = Sequential()\n",
    "model.add(Embedding(input_dim=10000, output_dim=128, input_length=200))\n",
    "model.add(LSTM(units=64, dropout=0.2, recurrent_dropout=0.2))\n",
    "model.add(Dense(units=1, activation='sigmoid'))\n",
    "\n",
    "# compile the model\n",
    "model.compile(loss='binary_crossentropy', optimizer='adam', metrics=['accuracy'])"
   ]
  },
  {
   "cell_type": "code",
   "execution_count": 78,
   "id": "2bf01e52",
   "metadata": {},
   "outputs": [
    {
     "data": {
      "image/png": "[encoded data removed]",
      "text/plain": [
       "<Figure size 640x480 with 2 Axes>"
      ]
     },
     "metadata": {},
     "output_type": "display_data"
    }
   ],
   "source": [
    "# Evaluate the model\n",
    "conf_mat = confusion_matrix(y_test, y_pred)\n",
    "plt.imshow(conf_mat, cmap='Blues', interpolation='nearest')\n",
    "plt.colorbar()\n",
    "tick_marks = np.arange(len(['Fake', 'Real']))\n",
    "plt.xticks(tick_marks, ['Fake', 'Real'], rotation=45)\n",
    "plt.yticks(tick_marks, ['Fake', 'Real'])\n",
    "plt.xlabel('Predicted')\n",
    "plt.ylabel('True')\n",
    "plt.show()"
   ]
  },
  {
   "cell_type": "code",
   "execution_count": 92,
   "id": "de4881dd",
   "metadata": {},
   "outputs": [
    {
     "data": {
      "text/plain": [
       "0.9927839643652562"
      ]
     },
     "execution_count": 92,
     "metadata": {},
     "output_type": "execute_result"
    }
   ],
   "source": [
    "#Checking for accuracy\n",
    "accuracy_score(y_test,y_pred)"
   ]
  },
  {
   "cell_type": "code",
   "execution_count": null,
   "id": "2fbd8c51",
   "metadata": {},
   "outputs": [],
   "source": []
  }
 ],
 "metadata": {
  "kernelspec": {
   "display_name": "Python 3 (ipykernel)",
   "language": "python",
   "name": "python3"
  },
  "language_info": {
   "codemirror_mode": {
    "name": "ipython",
    "version": 3
   },
   "file_extension": ".py",
   "mimetype": "text/x-python",
   "name": "python",
   "nbconvert_exporter": "python",
   "pygments_lexer": "ipython3",
   "version": "3.10.9"
  }
 },
 "nbformat": 4,
 "nbformat_minor": 5
}
